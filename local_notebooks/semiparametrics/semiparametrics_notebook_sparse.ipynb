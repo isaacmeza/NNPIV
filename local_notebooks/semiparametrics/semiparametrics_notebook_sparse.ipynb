{
 "cells": [
  {
   "cell_type": "code",
   "execution_count": 34,
   "metadata": {},
   "outputs": [],
   "source": [
    "import sys\n",
    "import os\n",
    "\n",
    "# Add the simulations/mcpy directory to the Python path\n",
    "sys.path.append(os.path.abspath(os.path.join(os.getcwd(), '../../simulations')))\n",
    "\n",
    "import numpy as np\n",
    "import pandas as pd\n",
    "\n",
    "import matplotlib.pyplot as plt\n",
    "\n",
    "from nnpiv.linear import sparse_l1vsl1, sparse_ridge_l1vsl1, sparse2_l1vsl1, sparse2_ridge_l1vsl1\n",
    "from sklearn.preprocessing import PolynomialFeatures\n",
    "\n",
    "from sklearn.ensemble import RandomForestRegressor, RandomForestClassifier\n",
    "import os\n",
    "import numpy as np\n",
    "import simulations.dgps_mediated as dgps\n",
    "import sys\n",
    "\n",
    "# Now you can import the module\n",
    "from nnpiv.semiparametrics import DML_mediated, DML_joint_mediated"
   ]
  },
  {
   "cell_type": "code",
   "execution_count": 35,
   "metadata": {},
   "outputs": [
    {
     "name": "stdout",
     "output_type": "stream",
     "text": [
      "(2000, 4)\n"
     ]
    }
   ],
   "source": [
    "deg = 1\n",
    "fn_number = 0\n",
    "tau_fn = dgps.get_tau_fn(fn_number)\n",
    "tauinv_fn = dgps.get_tauinv_fn(fn_number)\n",
    "W, Z, X, M, D, Y, tau_fn = dgps.get_data(2000, tau_fn)\n",
    "\n",
    "V = np.random.rand(Y.shape[0])\n",
    "V = V.reshape(-1, 1)\n",
    "\n",
    "print(np.column_stack((W,X,Z)).shape)\n",
    "ind = np.where(D==0)[0]\n",
    "W0 = W[ind]\n",
    "X0 = X[ind,:]\n",
    "W0_test = np.zeros((1000, 1+X.shape[1]))\n",
    "W0_test += np.median(np.column_stack((X0,W0)), axis=0, keepdims=True)\n",
    "W0_test[:, 2] = np.linspace(np.percentile(\n",
    "            W0[:, 0], 5), np.percentile(W0[:, 0], 95), 1000)\n",
    "\n",
    "# True parameters\n",
    "b_yd = 2.0; b_ym = 1.0; b_yx = np.array([[-1.0],[-1.0]]); b_yu = -1.0; b_yw = 2.0; b_y0 = 2.0\n",
    "b_wx = np.array([[0.2],[0.2]]); b_wu = -0.6; b_w0 = 0.3\n",
    "b_md = -0.3; b_mx = np.array([[-0.5],[-0.5]]); b_mu = 0.4; b_m0 = 0.0\n",
    "    \n",
    "gamma_1w = (b_yw*b_wu + b_yu)/b_wu\n",
    "gamma_1x = b_yw*b_wx + b_yx - gamma_1w*b_wx\n",
    "gamma_1m = b_ym\n",
    "gamma_10 = b_y0 + b_yd + b_yw*b_w0 - gamma_1w*b_w0\n",
    "\n",
    "gamma_0w = (gamma_1m*b_mu + gamma_1w*b_wu)/b_wu\n",
    "gamma_0x = gamma_1m*b_mx + gamma_1w*b_wx + gamma_1x - gamma_0w*b_wx\n",
    "gamma_00 = gamma_10 + gamma_1m*b_m0 + gamma_1w*b_w0 - gamma_0w*b_w0\n",
    "\n",
    "    # True nuisance function\n",
    "expected_te = gamma_00 + tauinv_fn(W0_test)@np.row_stack((gamma_0x, gamma_0w))\n",
    "D_ = D.copy()\n"
   ]
  },
  {
   "cell_type": "code",
   "execution_count": 36,
   "metadata": {},
   "outputs": [],
   "source": [
    "splin_1 = sparse_l1vsl1(B=100, lambda_theta=.1,\n",
    "                                             eta_theta=.1,\n",
    "                                             eta_w=.1,\n",
    "                                             n_iter=10000, tol=.0001, sparsity=None)\n",
    "\n",
    "trans = PolynomialFeatures(degree=deg, include_bias=False)\n"
   ]
  },
  {
   "cell_type": "code",
   "execution_count": 37,
   "metadata": {},
   "outputs": [
    {
     "name": "stdout",
     "output_type": "stream",
     "text": [
      "Rep: 1\n"
     ]
    },
    {
     "name": "stderr",
     "output_type": "stream",
     "text": [
      "100%|██████████| 5/5 [00:24<00:00,  4.91s/it]"
     ]
    },
    {
     "name": "stdout",
     "output_type": "stream",
     "text": [
      "(4.2837892525237455, 19.267768278245764, array([4.09141418, 4.47616433]))\n"
     ]
    },
    {
     "name": "stderr",
     "output_type": "stream",
     "text": [
      "\n"
     ]
    }
   ],
   "source": [
    "\n",
    "dml_splin = DML_mediated(Y, D, M, W, Z, X,\n",
    "                        estimator='MR',\n",
    "                        estimand='E[Y(1,M(0))]',\n",
    "                        model1 = splin_1,\n",
    "                        model2 = splin_1,\n",
    "                        modelq1 = splin_1,\n",
    "                        modelq2 = splin_1,\n",
    "                n_folds=5, n_rep=1, opts={'lin_degree': deg})\n",
    "print(dml_splin.dml())\n"
   ]
  },
  {
   "cell_type": "code",
   "execution_count": 38,
   "metadata": {},
   "outputs": [
    {
     "name": "stdout",
     "output_type": "stream",
     "text": [
      "3.9738505710350296\n",
      "8.622606079442823\n"
     ]
    }
   ],
   "source": [
    "\n",
    "ind = np.where(D==1)[0]\n",
    "M1 = M[ind]\n",
    "W1 = W[ind]\n",
    "X1 = X[ind,:]\n",
    "Z1 = Z[ind]\n",
    "Y1 = Y[ind]\n",
    "\n",
    "\n",
    "A2 = trans.fit_transform(np.column_stack((M1,X1,Z1)))\n",
    "A1 = trans.fit_transform(np.column_stack((M1,X1,W1)))\n",
    "\n",
    "bridge_1 = splin_1.fit(A2, A1, Y1)\n",
    "\n",
    "\n",
    "A1 = trans.fit_transform(np.column_stack((M,X,W)))\n",
    "bridge_1_hat = bridge_1.predict(A1)\n",
    "bridge_1_hat = bridge_1_hat.reshape(A1.shape[:1] + Y.shape[1:])\n",
    "       \n",
    "   \n",
    "ind = np.where(D==0)[0]\n",
    "W0 = W[ind]\n",
    "X0 = X[ind,:]\n",
    "Z0 = Z[ind]\n",
    "bridge_1_hat = bridge_1_hat[ind]\n",
    "\n",
    "B2 = trans.fit_transform(np.column_stack((Z0,X0)))\n",
    "B1 = trans.fit_transform(np.column_stack((X0,W0)))\n",
    "\n",
    "\n",
    "bridge_2 = splin_1.fit(B2, B1, bridge_1_hat)\n",
    "       \n",
    "gamma_0_hat = bridge_2.predict(trans.fit_transform(np.column_stack((X, W)))).reshape(-1, 1)\n",
    "\n",
    "print(np.mean(gamma_0_hat))\n",
    "print(np.var(gamma_0_hat))"
   ]
  },
  {
   "cell_type": "code",
   "execution_count": 39,
   "metadata": {},
   "outputs": [],
   "source": [
    "splin_2 = sparse2_l1vsl1(mu=0.1, V1=100, V2=100,\n",
    "                 eta_alpha='auto', eta_w1='auto', eta_beta='auto', eta_w2='auto',\n",
    "                 n_iter=10000, tol=.0001/2, sparsity=None, fit_intercept=True)\n"
   ]
  },
  {
   "cell_type": "code",
   "execution_count": 40,
   "metadata": {},
   "outputs": [
    {
     "name": "stdout",
     "output_type": "stream",
     "text": [
      "3.9757064178481505\n",
      "8.606148655305928\n"
     ]
    }
   ],
   "source": [
    "A = trans.fit_transform(np.column_stack((M,X,W)))\n",
    "E = trans.fit_transform(np.column_stack((M,X,Z)))\n",
    "B = trans.fit_transform(np.column_stack((X,W)))\n",
    "C = trans.fit_transform(np.column_stack((X,Z)))\n",
    "\n",
    "splin2_pred= splin_2.fit(A, B, C, E, Y, subsetted=True, subset_ind1=D).predict(B)\n",
    "print(np.mean(splin2_pred))\n",
    "print(np.var(splin2_pred))\n"
   ]
  },
  {
   "cell_type": "code",
   "execution_count": 41,
   "metadata": {},
   "outputs": [
    {
     "name": "stdout",
     "output_type": "stream",
     "text": [
      "Rep: 1\n"
     ]
    },
    {
     "name": "stderr",
     "output_type": "stream",
     "text": [
      "100%|██████████| 5/5 [00:25<00:00,  5.00s/it]"
     ]
    },
    {
     "name": "stdout",
     "output_type": "stream",
     "text": [
      "(4.157383919162749, 16.810709837329757, array([3.977693  , 4.33707483]))\n"
     ]
    },
    {
     "name": "stderr",
     "output_type": "stream",
     "text": [
      "\n"
     ]
    }
   ],
   "source": [
    "dml2_splin = DML_joint_mediated(Y, D, M, W, Z, X,\n",
    "                 estimator='MR',\n",
    "                 estimand='E[Y(1,M(0))]',\n",
    "                 model1=splin_2, \n",
    "                 nn_1=False,\n",
    "                 modelq1=splin_2, \n",
    "                 nn_q1=False,\n",
    "                 n_folds=5, n_rep=1, opts={'lin_degree': deg})\n",
    "\n",
    "print(dml2_splin.dml())\n"
   ]
  }
 ],
 "metadata": {
  "kernelspec": {
   "display_name": "nnpiv_venv",
   "language": "python",
   "name": "python3"
  },
  "language_info": {
   "codemirror_mode": {
    "name": "ipython",
    "version": 3
   },
   "file_extension": ".py",
   "mimetype": "text/x-python",
   "name": "python",
   "nbconvert_exporter": "python",
   "pygments_lexer": "ipython3",
   "version": "3.9.13"
  }
 },
 "nbformat": 4,
 "nbformat_minor": 2
}
