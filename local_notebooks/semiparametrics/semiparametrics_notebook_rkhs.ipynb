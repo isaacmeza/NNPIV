{
 "cells": [
  {
   "cell_type": "code",
   "execution_count": 1,
   "metadata": {},
   "outputs": [],
   "source": [
    "import sys\n",
    "import os\n",
    "\n",
    "# Add the simulations/mcpy directory to the Python path\n",
    "sys.path.append(os.path.abspath(os.path.join(os.getcwd(), '../../simulations')))\n",
    "\n",
    "import matplotlib.pyplot as plt\n",
    "\n",
    "from nnpiv.rkhs import RKHSIV, ApproxRKHSIVCV, RKHSIVCV, RKHSIVL2CV, RKHSIVL2, RKHS2IV, RKHS2IVL2\n",
    "\n",
    "import numpy as np\n",
    "import simulations.dgps_mediated as dgps\n",
    "\n",
    "\n",
    "# Now you can import the module\n",
    "from nnpiv.semiparametrics import DML_mediated"
   ]
  },
  {
   "cell_type": "code",
   "execution_count": 37,
   "metadata": {},
   "outputs": [
    {
     "name": "stdout",
     "output_type": "stream",
     "text": [
      "(2000, 4)\n"
     ]
    }
   ],
   "source": [
    "\n",
    "fn_number = 0\n",
    "tau_fn = dgps.get_tau_fn(fn_number)\n",
    "tauinv_fn = dgps.get_tauinv_fn(fn_number)\n",
    "W, Z, X, M, D, Y, tau_fn = dgps.get_data(2000, tau_fn)\n",
    "\n",
    "V = np.random.rand(Y.shape[0])\n",
    "V = V.reshape(-1, 1)\n",
    "\n",
    "print(np.column_stack((W,X,Z)).shape)\n",
    "ind = np.where(D==0)[0]\n",
    "W0 = W[ind]\n",
    "X0 = X[ind,:]\n",
    "W0_test = np.zeros((1000, 1+X.shape[1]))\n",
    "W0_test += np.median(np.column_stack((X0,W0)), axis=0, keepdims=True)\n",
    "W0_test[:, 2] = np.linspace(np.percentile(\n",
    "            W0[:, 0], 5), np.percentile(W0[:, 0], 95), 1000)\n",
    "\n",
    "# True parameters\n",
    "b_yd = 2.0; b_ym = 1.0; b_yx = np.array([[-1.0],[-1.0]]); b_yu = -1.0; b_yw = 2.0; b_y0 = 2.0\n",
    "b_wx = np.array([[0.2],[0.2]]); b_wu = -0.6; b_w0 = 0.3\n",
    "b_md = -0.3; b_mx = np.array([[-0.5],[-0.5]]); b_mu = 0.4; b_m0 = 0.0\n",
    "    \n",
    "gamma_1w = (b_yw*b_wu + b_yu)/b_wu\n",
    "gamma_1x = b_yw*b_wx + b_yx - gamma_1w*b_wx\n",
    "gamma_1m = b_ym\n",
    "gamma_10 = b_y0 + b_yd + b_yw*b_w0 - gamma_1w*b_w0\n",
    "\n",
    "gamma_0w = (gamma_1m*b_mu + gamma_1w*b_wu)/b_wu\n",
    "gamma_0x = gamma_1m*b_mx + gamma_1w*b_wx + gamma_1x - gamma_0w*b_wx\n",
    "gamma_00 = gamma_10 + gamma_1m*b_m0 + gamma_1w*b_w0 - gamma_0w*b_w0\n",
    "\n",
    "    # True nuisance function\n",
    "expected_te = gamma_00 + tauinv_fn(W0_test)@np.row_stack((gamma_0x, gamma_0w))\n",
    "D_ = D.copy()\n"
   ]
  },
  {
   "cell_type": "code",
   "execution_count": 31,
   "metadata": {},
   "outputs": [],
   "source": [
    "rkhs_model = RKHSIVL2(kernel='rbf', gamma=.1, delta_scale='auto', delta_exp=.4)"
   ]
  },
  {
   "cell_type": "code",
   "execution_count": 32,
   "metadata": {},
   "outputs": [
    {
     "name": "stdout",
     "output_type": "stream",
     "text": [
      "Rep: 1\n"
     ]
    },
    {
     "name": "stderr",
     "output_type": "stream",
     "text": [
      "100%|██████████| 5/5 [00:07<00:00,  1.54s/it]"
     ]
    },
    {
     "name": "stdout",
     "output_type": "stream",
     "text": [
      "(4.06033182990191, 21.587023870157502, array([3.85670759, 4.26395607]))\n"
     ]
    },
    {
     "name": "stderr",
     "output_type": "stream",
     "text": [
      "\n"
     ]
    }
   ],
   "source": [
    "\n",
    "dml_rkhs = DML_mediated(Y, D, M, W, Z, X,\n",
    "                        estimator='OR',\n",
    "                        estimand='E[Y(1,M(0))]',\n",
    "                        model1 = rkhs_model,\n",
    "                        model2 = rkhs_model,\n",
    "                        modelq1 = rkhs_model,\n",
    "                        modelq2 = rkhs_model,\n",
    "                n_folds=5, n_rep=1)\n",
    "print(dml_rkhs.dml())\n"
   ]
  },
  {
   "cell_type": "code",
   "execution_count": 33,
   "metadata": {},
   "outputs": [
    {
     "name": "stdout",
     "output_type": "stream",
     "text": [
      "4.150497972408939\n",
      "18.745097763692986\n",
      "4.109066158149168\n",
      "16.215668430035784\n"
     ]
    }
   ],
   "source": [
    "\n",
    "ind = np.where(D==1)[0]\n",
    "M1 = M[ind]\n",
    "W1 = W[ind]\n",
    "X1 = X[ind,:]\n",
    "Z1 = Z[ind]\n",
    "Y1 = Y[ind]\n",
    "\n",
    "\n",
    "A2 = np.column_stack((M1,X1,Z1))\n",
    "A1 = np.column_stack((M1,X1,W1))\n",
    "\n",
    "bridge_1 = rkhs_model.fit(A2, A1, Y1)\n",
    "A1 = np.column_stack((M,X,W))\n",
    "bridge_1_hat = bridge_1.predict(A1)\n",
    "print(np.mean(bridge_1_hat))\n",
    "print(np.var(bridge_1_hat))\n",
    "bridge_1_hat = bridge_1_hat.reshape(A1.shape[:1] + Y.shape[1:])\n",
    "       \n",
    "   \n",
    "ind = np.where(D==0)[0]\n",
    "W0 = W[ind]\n",
    "X0 = X[ind,:]\n",
    "Z0 = Z[ind]\n",
    "bridge_1_hat = bridge_1_hat[ind]\n",
    "\n",
    "B2 = np.column_stack((Z0,X0))\n",
    "B1 = np.column_stack((X0,W0))\n",
    "\n",
    "\n",
    "bridge_2 = rkhs_model.fit(B2, B1, bridge_1_hat)\n",
    "       \n",
    "gamma_0_hat = bridge_2.predict(np.column_stack((X, W))).reshape(-1, 1)\n",
    "\n",
    "print(np.mean(gamma_0_hat))\n",
    "print(np.var(gamma_0_hat))"
   ]
  },
  {
   "cell_type": "code",
   "execution_count": 34,
   "metadata": {},
   "outputs": [],
   "source": [
    "rkhs2_model = RKHS2IVL2(kernel='rbf', gamma=.1, delta_scale='auto', delta_exp=.4)"
   ]
  },
  {
   "cell_type": "code",
   "execution_count": 35,
   "metadata": {},
   "outputs": [
    {
     "name": "stdout",
     "output_type": "stream",
     "text": [
      "1.4366579052234956\n",
      "4.2913319081201\n"
     ]
    }
   ],
   "source": [
    "A = np.column_stack((M,X,W))\n",
    "E = np.column_stack((M,X,Z))\n",
    "B = np.column_stack((X,W))\n",
    "C = np.column_stack((X,Z))\n",
    "\n",
    "rkhs2_pred= rkhs2_model.fit(A, B, C, E, Y, subsetted=True, subset_ind1=D).predict(B)\n",
    "print(np.mean(rkhs2_pred))\n",
    "print(np.var(rkhs2_pred))"
   ]
  }
 ],
 "metadata": {
  "kernelspec": {
   "display_name": "nnpiv_venv",
   "language": "python",
   "name": "python3"
  },
  "language_info": {
   "codemirror_mode": {
    "name": "ipython",
    "version": 3
   },
   "file_extension": ".py",
   "mimetype": "text/x-python",
   "name": "python",
   "nbconvert_exporter": "python",
   "pygments_lexer": "ipython3",
   "version": "3.9.13"
  }
 },
 "nbformat": 4,
 "nbformat_minor": 2
}
