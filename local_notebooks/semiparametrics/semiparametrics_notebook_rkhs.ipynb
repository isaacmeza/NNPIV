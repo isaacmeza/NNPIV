{
 "cells": [
  {
   "cell_type": "code",
   "execution_count": null,
   "metadata": {},
   "outputs": [],
   "source": [
    "# =========================================================\n",
    "# DML (mediated) with RKHS \n",
    "# =========================================================\n",
    "\n",
    "# ---- Limit BLAS/OpenMP threads BEFORE importing heavy libs ----\n",
    "import os as os\n",
    "os.environ.setdefault(\"OMP_NUM_THREADS\", \"1\")\n",
    "os.environ.setdefault(\"OPENBLAS_NUM_THREADS\", \"1\")\n",
    "os.environ.setdefault(\"MKL_NUM_THREADS\", \"1\")\n",
    "os.environ.setdefault(\"VECLIB_MAXIMUM_THREADS\", \"1\")\n",
    "os.environ.setdefault(\"NUMEXPR_NUM_THREADS\", \"1\")\n",
    "\n",
    "# ---- Standard libs ----\n",
    "import sys\n",
    "import time\n",
    "import platform\n",
    "from pathlib import Path\n",
    "\n",
    "# ---- Third-party ----\n",
    "import numpy as np\n",
    "import matplotlib.pyplot as plt\n",
    "from threadpoolctl import threadpool_limits\n",
    "\n",
    "# Keep native libraries to 1 thread (NumPy/SciPy/BLAS/OpenMP)\n",
    "threadpool_limits(1)\n",
    "\n",
    "# ---- Local repo imports (adjust path if needed) ----\n",
    "sys.path.append(str(Path.cwd() / \"../../simulations\"))\n",
    "import dgps_mediated as dgps  \n",
    "\n",
    "from nnpiv.rkhs import RKHSIV, RKHSIVL2, RKHS2IVL2 \n",
    "from nnpiv.semiparametrics import DML_mediated  \n",
    "\n",
    "# PyTorch presence for reproducibility reporting\n",
    "try:\n",
    "    import torch  \n",
    "    TORCH_OK = True\n",
    "except Exception:\n",
    "    TORCH_OK = False\n",
    "\n",
    "\n",
    "# -----------------------\n",
    "# Reproducibility helpers\n",
    "# -----------------------\n",
    "def seed_everything(seed: int = 123) -> None:\n",
    "    \"\"\"Set seeds for reproducibility.\"\"\"\n",
    "    import random\n",
    "    random.seed(seed)\n",
    "    np.random.seed(seed)\n",
    "    if TORCH_OK:\n",
    "        torch.manual_seed(seed)\n",
    "        if torch.cuda.is_available():\n",
    "            torch.cuda.manual_seed_all(seed)\n",
    "\n",
    "seed_everything(123)\n",
    "\n",
    "\n",
    "# -----------------------\n",
    "# Resource print utility\n",
    "# -----------------------\n",
    "def print_resources():\n",
    "    \"\"\"Print basic compute resource info (CPU, GPU, library versions).\"\"\"\n",
    "    cpu_cores = os.cpu_count()\n",
    "    pyver = sys.version.split()[0]\n",
    "    npver = np.__version__\n",
    "    torch_info = \"not installed\"\n",
    "    gpu_info = \"CUDA: not available\"\n",
    "    if TORCH_OK:\n",
    "        torch_info = torch.__version__\n",
    "        if torch.cuda.is_available():\n",
    "            try:\n",
    "                name = torch.cuda.get_device_name(0)\n",
    "            except Exception:\n",
    "                name = \"Unknown GPU\"\n",
    "            gpu_info = f\"CUDA: available — {name}\"\n",
    "    print(\"=== Compute resources ===\")\n",
    "    print(f\"Python: {pyver}\")\n",
    "    print(f\"NumPy: {npver}\")\n",
    "    print(f\"PyTorch: {torch_info}\")\n",
    "    print(f\"CPU cores: {cpu_cores}\")\n",
    "    print(gpu_info)\n",
    "    print(f\"Platform: {platform.platform()}\")\n",
    "    print(\"=========================\\n\")\n",
    "\n",
    "\n",
    "# -----------------------\n",
    "# Result formatter\n",
    "# -----------------------\n",
    "def summarize_dml_result(name: str, result, elapsed: float):\n",
    "    \"\"\"\n",
    "    Accepts result from .dml() and prints θ, SE, 95% CI when available.\n",
    "    Compatible with returns like (theta, var, ci) or (theta, var, ci, cov).\n",
    "    \"\"\"\n",
    "    # Normalize shapes\n",
    "    if isinstance(result, tuple):\n",
    "        if len(result) == 3:\n",
    "            theta, var, ci = result\n",
    "            cov = None\n",
    "        elif len(result) == 4:\n",
    "            theta, var, ci, cov = result\n",
    "        else:\n",
    "            # Unknown structure: just print and return\n",
    "            print(f\"[{name}] time={elapsed:.2f}s — result={result}\")\n",
    "            return\n",
    "    else:\n",
    "        print(f\"[{name}] time={elapsed:.2f}s — result={result}\")\n",
    "        return\n",
    "\n",
    "    theta = np.atleast_1d(theta).astype(float)\n",
    "    var = np.atleast_1d(var).astype(float)\n",
    "    se = np.sqrt(var)\n",
    "    ci = np.array(ci, dtype=float) if ci is not None else None\n",
    "\n",
    "    def fmt_arr(a):  # nice scalar/array printer\n",
    "        return f\"{float(a[0]):.4f}\" if a.size == 1 else np.array2string(a, precision=4)\n",
    "\n",
    "    print(f\"[{name}] time={elapsed:.2f}s\")\n",
    "    print(f\"  theta: {fmt_arr(theta)}\")\n",
    "    print(f\"  SE   : {fmt_arr(se)}\")\n",
    "    if ci is not None:\n",
    "        if ci.ndim == 1 and ci.size == 2:\n",
    "            print(f\"  95% CI: [{ci[0]:.4f}, {ci[1]:.4f}]\")\n",
    "        else:\n",
    "            print(f\"  95% CI: {np.array2string(ci, precision=4)}\")\n",
    "    if cov is not None:\n",
    "        print(f\"  (cov shape: {cov.shape})\")\n",
    "    print(\"\")"
   ]
  },
  {
   "cell_type": "code",
   "execution_count": 2,
   "metadata": {},
   "outputs": [
    {
     "name": "stdout",
     "output_type": "stream",
     "text": [
      "=== Compute resources ===\n",
      "Python: 3.10.18\n",
      "NumPy: 2.2.6\n",
      "PyTorch: 2.5.0\n",
      "CPU cores: 112\n",
      "CUDA: not available\n",
      "Platform: Linux-4.18.0-553.44.1.el8_10.x86_64-x86_64-with-glibc2.28\n",
      "=========================\n",
      "\n"
     ]
    }
   ],
   "source": [
    "# -----------------------\n",
    "# Print resources \n",
    "# -----------------------\n",
    "print_resources()    "
   ]
  },
  {
   "cell_type": "code",
   "execution_count": 3,
   "metadata": {},
   "outputs": [
    {
     "name": "stdout",
     "output_type": "stream",
     "text": [
      "=== Ground truth ===\n",
      "True parameter for E[Y(1,M(0))] = 4.05\n",
      "\n"
     ]
    }
   ],
   "source": [
    "# =========================================================\n",
    "# Data generation \n",
    "# =========================================================\n",
    "# Function dictionary (for reference):\n",
    "# {'abs': 0, '2dpoly': 1, 'sigmoid': 2, 'sin': 3, 'frequent_sin': 4, 'abs_sqrt': 5,\n",
    "#  'step': 6, '3dpoly': 7, 'linear': 8, 'rand_pw': 9, 'abspos': 10, 'sqrpos': 11,\n",
    "#  'band': 12, 'invband': 13, 'steplinear': 14, 'pwlinear': 15, 'exponential': 16}\n",
    "\n",
    "fn_number = 0\n",
    "tau_fn = dgps.get_tau_fn(fn_number)\n",
    "tauinv_fn = dgps.get_tauinv_fn(fn_number)\n",
    "\n",
    "W, Z, X, M, D, Y, tau_fn = dgps.get_data(2000, tau_fn)\n",
    "\n",
    "\n",
    "# Ground-truth value for the target estimand (for reference in logs)\n",
    "TRUE_PARAM = 4.05\n",
    "print(f\"=== Ground truth ===\\nTrue parameter for E[Y(1,M(0))] = {TRUE_PARAM:.2f}\\n\")"
   ]
  },
  {
   "cell_type": "code",
   "execution_count": 5,
   "metadata": {},
   "outputs": [
    {
     "name": "stdout",
     "output_type": "stream",
     "text": [
      "Rep: 1\n"
     ]
    },
    {
     "name": "stderr",
     "output_type": "stream",
     "text": [
      "100%|██████████| 5/5 [00:02<00:00,  2.16it/s]\n"
     ]
    },
    {
     "name": "stdout",
     "output_type": "stream",
     "text": [
      "[Sequential (MR) with RKHSIVL2] time=2.31s\n",
      "  theta: 4.1587\n",
      "  SE   : 4.8541\n",
      "  95% CI: [3.9460, 4.3715]\n",
      "\n",
      "Rep: 1\n"
     ]
    },
    {
     "name": "stderr",
     "output_type": "stream",
     "text": [
      "100%|██████████| 5/5 [00:06<00:00,  1.30s/it]\n"
     ]
    },
    {
     "name": "stdout",
     "output_type": "stream",
     "text": [
      "[Simultaneous (OR) with RKHS2IVL2] time=6.52s\n",
      "  theta: 4.0575\n",
      "  SE   : 2.7676\n",
      "  95% CI: [3.9362, 4.1788]\n",
      "\n",
      "Rep: 1\n"
     ]
    },
    {
     "name": "stderr",
     "output_type": "stream",
     "text": [
      "100%|██████████| 5/5 [00:13<00:00,  2.61s/it]"
     ]
    },
    {
     "name": "stdout",
     "output_type": "stream",
     "text": [
      "[Simultaneous (MR) with RKHS2IVL2 (alt tuning)] time=13.06s\n",
      "  theta: 4.1157\n",
      "  SE   : 4.5768\n",
      "  95% CI: [3.9151, 4.3162]\n",
      "\n"
     ]
    },
    {
     "name": "stderr",
     "output_type": "stream",
     "text": [
      "\n"
     ]
    }
   ],
   "source": [
    "# -----------------------\n",
    "# 1) Sequential estimator (MR)\n",
    "# -----------------------\n",
    "rkhs_model = RKHSIVL2(kernel=\"rbf\", gamma=0.013, delta_scale=\"auto\", delta_exp=0.4)\n",
    "dml_seq = DML_mediated(\n",
    "    Y, D, M, W, Z, X,\n",
    "    estimator=\"MR\",\n",
    "    estimand=\"E[Y(1,M(0))]\",\n",
    "    model1=[rkhs_model, rkhs_model],\n",
    "    modelq1=[rkhs_model, rkhs_model],\n",
    "    nn_1=[False,False],\n",
    "    nn_q1=[False,False],\n",
    "    fitargs1=[None, None],\n",
    "    fitargsq1=[None, None],\n",
    "    n_folds=5, n_rep=1\n",
    ")\n",
    "t0 = time.perf_counter()\n",
    "res_seq = dml_seq.dml()\n",
    "t1 = time.perf_counter()\n",
    "summarize_dml_result(\"Sequential (MR) with RKHSIVL2\", res_seq, t1 - t0)\n",
    "\n",
    "\n",
    "# -----------------------\n",
    "# 2) Simultaneous estimator (OR)\n",
    "# -----------------------\n",
    "dml_sim_or = DML_mediated(\n",
    "    Y, D, M, W, Z, X,\n",
    "    estimator=\"OR\",\n",
    "    estimand=\"E[Y(1,M(0))]\",\n",
    "    model1=RKHS2IVL2(kernel=\"rbf\", gamma=0.01, delta_scale=\"auto\", delta_exp=0.4),\n",
    "    nn_1=False,\n",
    "    modelq1=RKHS2IVL2(kernel=\"rbf\", gamma=0.01, delta_scale=\"auto\", delta_exp=0.4),\n",
    "    nn_q1=False,\n",
    "    n_folds=5, n_rep=1\n",
    ")\n",
    "t0 = time.perf_counter()\n",
    "res_sim_or = dml_sim_or.dml()\n",
    "t1 = time.perf_counter()\n",
    "summarize_dml_result(\"Simultaneous (OR) with RKHS2IVL2\", res_sim_or, t1 - t0)\n",
    "\n",
    "\n",
    "# -----------------------\n",
    "# 3) Simultaneous estimator (MR) — different tuning\n",
    "# -----------------------\n",
    "dml_sim_mr = DML_mediated(\n",
    "    Y, D, M, W, Z, X,\n",
    "    estimator=\"MR\",\n",
    "    estimand=\"E[Y(1,M(0))]\",\n",
    "    model1=RKHS2IVL2(kernel=\"rbf\", gamma=0.0013, delta_scale=\"auto\", delta_exp=10),\n",
    "    nn_1=False,\n",
    "    modelq1=RKHS2IVL2(kernel=\"rbf\", gamma=0.0013, delta_scale=\"auto\", delta_exp=10),\n",
    "    nn_q1=False,\n",
    "    n_folds=5, n_rep=1\n",
    ")\n",
    "t0 = time.perf_counter()\n",
    "res_sim_mr = dml_sim_mr.dml()\n",
    "t1 = time.perf_counter()\n",
    "summarize_dml_result(\"Simultaneous (MR) with RKHS2IVL2 (alt tuning)\", res_sim_mr, t1 - t0)\n"
   ]
  },
  {
   "cell_type": "code",
   "execution_count": null,
   "metadata": {},
   "outputs": [],
   "source": []
  }
 ],
 "metadata": {
  "kernelspec": {
   "display_name": "nnpiv_venv (3.9.13)",
   "language": "python",
   "name": "python3"
  },
  "language_info": {
   "codemirror_mode": {
    "name": "ipython",
    "version": 3
   },
   "file_extension": ".py",
   "mimetype": "text/x-python",
   "name": "python",
   "nbconvert_exporter": "python",
   "pygments_lexer": "ipython3",
   "version": "3.9.13"
  }
 },
 "nbformat": 4,
 "nbformat_minor": 4
}
