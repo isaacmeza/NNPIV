{
 "cells": [
  {
   "cell_type": "code",
   "execution_count": 1,
   "metadata": {},
   "outputs": [
    {
     "name": "stdout",
     "output_type": "stream",
     "text": [
      "=== Compute resources ===\n",
      "Python       : 3.10.18\n",
      "NumPy        : 2.2.6\n",
      "PyTorch      : 2.5.0\n",
      "CPU cores    : 64\n",
      "CUDA devices : 4 -> ['NVIDIA A100-SXM4-40GB MIG 3g.20gb', 'NVIDIA A100-SXM4-40GB MIG 3g.20gb', 'NVIDIA A100-SXM4-40GB MIG 3g.20gb', 'NVIDIA A100-SXM4-40GB MIG 3g.20gb']\n",
      "Platform     : Linux-4.18.0-553.44.1.el8_10.x86_64-x86_64-with-glibc2.28\n",
      "=========================\n",
      "\n"
     ]
    }
   ],
   "source": [
    "# =========================================================\n",
    "# Job Corps: DML(mediated) — Multi-GPU, efficient, timed\n",
    "# =========================================================\n",
    "\n",
    "# --- Limit BLAS/OpenMP threads BEFORE importing heavy libs ---\n",
    "import os as os\n",
    "os.environ.setdefault(\"OMP_NUM_THREADS\", \"1\")\n",
    "os.environ.setdefault(\"OPENBLAS_NUM_THREADS\", \"1\")\n",
    "os.environ.setdefault(\"MKL_NUM_THREADS\", \"1\")\n",
    "os.environ.setdefault(\"VECLIB_MAXIMUM_THREADS\", \"1\")\n",
    "os.environ.setdefault(\"NUMEXPR_NUM_THREADS\", \"1\")\n",
    "\n",
    "# --- Std libs ---\n",
    "import sys, time, platform\n",
    "from pathlib import Path\n",
    "\n",
    "# --- Third-party ---\n",
    "import numpy as np\n",
    "import pandas as pd\n",
    "import matplotlib.pyplot as plt\n",
    "import seaborn as sns\n",
    "from threadpoolctl import threadpool_limits\n",
    "threadpool_limits(1)  # keep NumPy/BLAS at 1 thread\n",
    "\n",
    "import torch\n",
    "import torch.nn as nn\n",
    "from sklearn.linear_model import LogisticRegression\n",
    "\n",
    "# NNPIV\n",
    "from nnpiv.neuralnet import AGMM, AGMM2L2\n",
    "from nnpiv.rkhs import ApproxRKHSIVCV\n",
    "from nnpiv.semiparametrics import DML_mediated\n",
    "\n",
    "# -----------------------\n",
    "# Compute resources print\n",
    "# -----------------------\n",
    "def print_resources():\n",
    "    dev_cnt = torch.cuda.device_count()\n",
    "    devs = [torch.cuda.get_device_name(i) for i in range(dev_cnt)] if dev_cnt else []\n",
    "    print(\"=== Compute resources ===\")\n",
    "    print(f\"Python       : {sys.version.split()[0]}\")\n",
    "    print(f\"NumPy        : {np.__version__}\")\n",
    "    print(f\"PyTorch      : {torch.__version__}\")\n",
    "    print(f\"CPU cores    : {os.cpu_count()}\")\n",
    "    print(f\"CUDA devices : {dev_cnt} -> {devs}\")\n",
    "    print(f\"Platform     : {platform.platform()}\")\n",
    "    print(\"=========================\\n\")\n",
    "\n",
    "print_resources()\n",
    "\n",
    "# Canonical device\n",
    "DEVICE = torch.device(\"cuda\" if torch.cuda.is_available() else \"cpu\")"
   ]
  },
  {
   "cell_type": "code",
   "execution_count": 2,
   "metadata": {},
   "outputs": [],
   "source": [
    "\n",
    "# -----------------------\n",
    "# Data loading (float32)\n",
    "# -----------------------\n",
    "df = pd.read_csv(\"../data/JCdata.csv\", delimiter=\" \", header=0)\n",
    "\n",
    "# mask once to avoid recomputation\n",
    "mask = (df[\"e12missdum\"] == 0).values\n",
    "\n",
    "X_cols = [\"female\",\"age\",\"race_white\",\"race_black\",\"race_hispanic\",\n",
    "          \"educ_geddiploma\",\"educ_hsdiploma\",\"ntv_engl\",\"marstat_divorced\",\n",
    "          \"marstat_separated\",\"marstat_livetogunm\",\"marstat_married\",\"haschldY0\",\n",
    "          \"everwkd\",\"mwearn\",\"hohhd0\",\"nonres\",\"g10\",\"g10missdum\",\n",
    "          \"work_dad_didnotwork\",\"g2\",\"g5\",\"g7\",\"welfare_child\",\"welfare_childmissdum\",\n",
    "          \"h1_fair_poor\",\"h2\",\"h29\",\"h5\",\"h5missdum\",\"h7\",\"h7missdum\",\"i1\",\"i10\"]\n",
    "\n",
    "X = df.loc[mask, X_cols].to_numpy(dtype=np.float32)\n",
    "\n",
    "# binary A from d>0\n",
    "a_series = (df.loc[mask, \"d\"] > 0).astype(np.int32)\n",
    "df.loc[mask, \"a\"] = a_series  # store once, reuse below\n",
    "\n",
    "Z = df.loc[mask, [\"e12\",\"e37\"]].to_numpy(dtype=np.float32)\n",
    "W = df.loc[mask, [\"e32\",\"e8_recruitersoffice\"]].to_numpy(dtype=np.float32)\n",
    "\n",
    "Y = df.loc[mask, [\"y\"]].to_numpy(dtype=np.float32)\n",
    "M = df.loc[mask, [\"m\"]].to_numpy(dtype=np.float32)\n",
    "D = df.loc[mask, [\"a\"]].to_numpy(dtype=np.float32)\n"
   ]
  },
  {
   "cell_type": "code",
   "execution_count": 3,
   "metadata": {},
   "outputs": [],
   "source": [
    "\n",
    "# -----------------------\n",
    "# Model builders (NN)\n",
    "# -----------------------\n",
    "p = 0.10\n",
    "n_hidden = 400\n",
    "\n",
    "def _get_learner(n_t):\n",
    "    return nn.Sequential(nn.Dropout(p=p), nn.Linear(n_t, n_hidden), nn.LeakyReLU(),\n",
    "                         nn.Dropout(p=p), nn.Linear(n_hidden, 1))\n",
    "\n",
    "def _get_adversary(n_z):\n",
    "    return nn.Sequential(nn.Dropout(p=p), nn.Linear(n_z, n_hidden), nn.LeakyReLU(),\n",
    "                         nn.Dropout(p=p), nn.Linear(n_hidden, 1))\n",
    "\n",
    "\n",
    "# AGMM2L2 (simultaneous) for bridges in mediated DML\n",
    "agmm2 = AGMM2L2(learnerh = _get_learner(36), learnerg = _get_learner(37),\n",
    "                     adversary1 = _get_adversary(37), adversary2 = _get_adversary(36))\n",
    "agmm2_q = AGMM2L2(learnerh = _get_learner(37), learnerg = _get_learner(36),\n",
    "                     adversary1 = _get_adversary(36), adversary2 = _get_adversary(37))\n",
    "\n",
    "# Outcome and treatment auxiliary models\n",
    "agmm_y = AGMM(_get_learner(34),_get_adversary(2))\n",
    "agmm_a = AGMM(_get_learner(36),_get_adversary(36))\n",
    "\n",
    "\n",
    "# Common fitargs for NN\n",
    "fit_nn_big = {\n",
    "    \"n_epochs\": 500, \"bs\": 100,\n",
    "    \"learner_lr\": 1e-4, \"adversary_lr\": 1e-4,\n",
    "    \"learner_l2\": 1e-3, \"adversary_l2\": 1e-4,\n",
    "    \"device\": DEVICE,  \n",
    "}\n",
    "fit_nn_med = {\n",
    "    \"n_epochs\": 450, \"bs\": 100,\n",
    "    \"learner_lr\": 1e-4, \"adversary_lr\": 1e-4,\n",
    "    \"learner_l2\": 1e-3, \"adversary_l2\": 1e-4,\n",
    "    \"device\": DEVICE,\n",
    "}\n"
   ]
  },
  {
   "cell_type": "code",
   "execution_count": 4,
   "metadata": {},
   "outputs": [
    {
     "name": "stdout",
     "output_type": "stream",
     "text": [
      "Rep: 1\n"
     ]
    },
    {
     "name": "stderr",
     "output_type": "stream",
     "text": [
      "100%|██████████| 5/5 [51:34<00:00, 618.98s/it]   "
     ]
    },
    {
     "name": "stdout",
     "output_type": "stream",
     "text": [
      "[NN] time = 3094.93s\n"
     ]
    },
    {
     "name": "stderr",
     "output_type": "stream",
     "text": [
      "\n"
     ]
    }
   ],
   "source": [
    "\n",
    "# -----------------------\n",
    "# Run DML — Neural Nets\n",
    "# -----------------------\n",
    "\n",
    "dml_agmm = DML_mediated(Y, D, M, W, Z, X,\n",
    "                        estimand='Direct',\n",
    "                        model1 = agmm2,\n",
    "                        modelq1 = agmm2_q,\n",
    "                        model_y = agmm_y,\n",
    "                        model_a = agmm_a,\n",
    "                        n_folds=5, n_rep=1,\n",
    "                        CHIM = True,\n",
    "                        prop_score=LogisticRegression(max_iter=3000),\n",
    "                        nn_1 = True,\n",
    "                        nn_q1 = True,\n",
    "                        nn_y = True,\n",
    "                        nn_a = True,\n",
    "                        fitargs1 = fit_nn_big,\n",
    "                        fitargsq1 = fit_nn_big,\n",
    "                        fitargsy = fit_nn_med,\n",
    "                        fitargsa = fit_nn_med,\n",
    "                        opts = {'burnin': 350})\n",
    "\n",
    "t0 = time.perf_counter()\n",
    "theta_nn, var_nn, ci_nn = dml_agmm.dml()\n",
    "t1 = time.perf_counter()\n",
    "print(f\"[NN] time = {t1 - t0:.2f}s\")\n",
    "theta_nn = float(np.atleast_1d(theta_nn)[0])\n",
    "var_nn   = float(np.atleast_1d(var_nn)[0])\n",
    "ci_nn    = np.array(ci_nn, dtype=float).reshape(-1)\n"
   ]
  },
  {
   "cell_type": "code",
   "execution_count": 5,
   "metadata": {},
   "outputs": [
    {
     "name": "stdout",
     "output_type": "stream",
     "text": [
      "Rep: 1\n"
     ]
    },
    {
     "name": "stderr",
     "output_type": "stream",
     "text": [
      "100%|██████████| 5/5 [00:05<00:00,  1.17s/it]\n"
     ]
    },
    {
     "name": "stdout",
     "output_type": "stream",
     "text": [
      "Rep: 2\n"
     ]
    },
    {
     "name": "stderr",
     "output_type": "stream",
     "text": [
      "100%|██████████| 5/5 [00:05<00:00,  1.03s/it]\n"
     ]
    },
    {
     "name": "stdout",
     "output_type": "stream",
     "text": [
      "Rep: 3\n"
     ]
    },
    {
     "name": "stderr",
     "output_type": "stream",
     "text": [
      "100%|██████████| 5/5 [00:05<00:00,  1.10s/it]"
     ]
    },
    {
     "name": "stdout",
     "output_type": "stream",
     "text": [
      "[RKHS] time = 16.50s\n"
     ]
    },
    {
     "name": "stderr",
     "output_type": "stream",
     "text": [
      "\n"
     ]
    }
   ],
   "source": [
    "\n",
    "# -----------------------\n",
    "# Run DML — RKHS\n",
    "# -----------------------\n",
    "rkhs_model = ApproxRKHSIVCV(\n",
    "    kernel_approx=\"nystrom\", n_components=100,\n",
    "    kernel=\"rbf\", gamma=0.1, delta_scale=\"auto\",\n",
    "    delta_exp=0.4, alpha_scales=np.geomspace(1, 10000, 10), cv=5\n",
    ")\n",
    "\n",
    "dml_rkhs = DML_mediated(\n",
    "    Y, D, M, W, Z, X,\n",
    "    estimand=\"Direct\",\n",
    "    model1=[rkhs_model, rkhs_model],\n",
    "    modelq1=[rkhs_model, rkhs_model],\n",
    "    nn_1=[False, False],\n",
    "    nn_q1=[False, False],\n",
    "    fitargs1=[None, None],\n",
    "    fitargsq1=[None, None],\n",
    "    n_folds=5, n_rep=3, CHIM=True,\n",
    "    prop_score=LogisticRegression(max_iter=2000),\n",
    ")\n",
    "\n",
    "t0 = time.perf_counter()\n",
    "theta_rk, var_rk, ci_rk = dml_rkhs.dml()\n",
    "t1 = time.perf_counter()\n",
    "print(f\"[RKHS] time = {t1 - t0:.2f}s\")\n",
    "theta_rk = float(np.atleast_1d(theta_rk)[0])\n",
    "var_rk   = float(np.atleast_1d(var_rk)[0])\n",
    "ci_rk    = np.array(ci_rk, dtype=float).reshape(-1)\n"
   ]
  },
  {
   "cell_type": "code",
   "execution_count": 6,
   "metadata": {},
   "outputs": [
    {
     "data": {
      "image/png": "[encoded data removed]",
      "text/plain": [
       "<Figure size 700x300 with 1 Axes>"
      ]
     },
     "metadata": {},
     "output_type": "display_data"
    }
   ],
   "source": [
    "\n",
    "# -----------------------\n",
    "# Assemble plot data\n",
    "# -----------------------\n",
    "\n",
    "# 'Parametric' estimator is retrieved from Table 2 of \n",
    "# Oliver Dukes, Ilya Shpitser, Eric J Tchetgen Tchetgen, Proximal mediation analysis, Biometrika, Volume 110, Issue 4, December 2023, Pages 973–987, https://doi.org/10.1093/biomet/asad015 \n",
    "estimators       = [\"Parametric\", \"RKHS\", \"Neural net\"]\n",
    "point_estimates  = [0.0057, theta_rk, theta_nn]\n",
    "lower_bounds     = [-0.0699, float(ci_rk[0]), float(ci_nn[0])]\n",
    "upper_bounds     = [ 0.0813, float(ci_rk[1]), float(ci_nn[1])]\n",
    "\n",
    "errors = [\n",
    "    np.array([point_estimates[i] - lower_bounds[i],\n",
    "              upper_bounds[i] - point_estimates[i]])\n",
    "    for i in range(len(estimators))\n",
    "]\n",
    "\n",
    "# -----------------------\n",
    "# Plot\n",
    "# -----------------------\n",
    "sns.set_style(\"white\")\n",
    "sns.set_palette(\"Set2\")\n",
    "plt.figure(figsize=(7, 3))\n",
    "\n",
    "for i, est in enumerate(estimators):\n",
    "    plt.errorbar(\n",
    "        est, point_estimates[i],\n",
    "        yerr=errors[i].reshape(2, 1),\n",
    "        fmt=\"o\", capsize=5\n",
    "    )\n",
    "\n",
    "plt.axhline(0, color=\"black\", linewidth=1, linestyle=\"--\")\n",
    "plt.ylabel(\"Direct effect\", fontsize=18)\n",
    "plt.xlabel(\"\", fontsize=20)\n",
    "plt.xticks(rotation=0, fontsize=18)\n",
    "plt.gca().yaxis.set_major_formatter(plt.FuncFormatter(lambda x, _: f\"{x:.2f}\"))\n",
    "plt.yticks([-0.15, -0.1, -0.05, 0.0, 0.05, 0.1], fontsize=12)\n",
    "plt.tight_layout()\n",
    "sns.despine()\n",
    "plt.savefig(\"../output/jobcorps1.png\", dpi=800, bbox_inches=\"tight\")\n",
    "plt.show()\n"
   ]
  },
  {
   "cell_type": "code",
   "execution_count": null,
   "metadata": {},
   "outputs": [],
   "source": []
  },
  {
   "cell_type": "code",
   "execution_count": null,
   "metadata": {},
   "outputs": [],
   "source": []
  }
 ],
 "metadata": {
  "kernelspec": {
   "display_name": "nnpiv_env (3.13.5)",
   "language": "python",
   "name": "python3"
  },
  "language_info": {
   "codemirror_mode": {
    "name": "ipython",
    "version": 3
   },
   "file_extension": ".py",
   "mimetype": "text/x-python",
   "name": "python",
   "nbconvert_exporter": "python",
   "pygments_lexer": "ipython3",
   "version": "3.13.5"
  }
 },
 "nbformat": 4,
 "nbformat_minor": 4
}
