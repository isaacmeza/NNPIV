{
 "cells": [
  {
   "cell_type": "code",
   "execution_count": 1,
   "metadata": {},
   "outputs": [],
   "source": [
    "import os\n",
    "import matplotlib.pyplot as plt\n",
    "import numpy as np\n",
    "from sklearn.linear_model import Lasso, LassoCV, LogisticRegression, LogisticRegressionCV, LinearRegression,\\\n",
    "    ElasticNet, ElasticNetCV, MultiTaskElasticNet, MultiTaskElasticNetCV\n",
    "from sklearn.ensemble import RandomForestRegressor, RandomForestClassifier\n",
    "from sklearn.preprocessing import PolynomialFeatures\n",
    "from sklearn.model_selection import train_test_split\n",
    "\n",
    "from sklearn.pipeline import Pipeline\n",
    "\n",
    "from pathlib import Path\n",
    "import numpy as np\n",
    "\n",
    "import pandas as pd\n",
    "import matplotlib.pyplot as plt\n",
    "\n",
    "import torch\n",
    "import torch.nn as nn\n",
    "from sklearn.cluster import KMeans\n",
    "#from mliv.neuralnet.deepiv_fit import deep_iv_fit\n",
    "from mliv.neuralnet.rbflayer import gaussian, inverse_multiquadric\n",
    "from mliv.neuralnet import AGMM\n",
    "\n",
    "device = torch.cuda.current_device() if torch.cuda.is_available() else None"
   ]
  },
  {
   "cell_type": "code",
   "execution_count": 2,
   "metadata": {},
   "outputs": [],
   "source": [
    "#from mliv.neuralnet.deepiv_fit import deep_iv_fit\n",
    "import mliv.dgps_mediated as dgps\n",
    "from mliv.rkhs import ApproxRKHSIVCV, RKHSIVCV\n",
    "from mliv.tsls import tsls, regtsls"
   ]
  },
  {
   "cell_type": "code",
   "execution_count": 3,
   "metadata": {},
   "outputs": [],
   "source": [
    "from dml_longterm import DML_longterm\n",
    "from dml_npiv import DML_npiv\n",
    "from dml_mediated import DML_mediated"
   ]
  },
  {
   "cell_type": "code",
   "execution_count": 4,
   "metadata": {},
   "outputs": [],
   "source": [
    "df = pd.read_csv('../data/data_star.csv', header=0)\n",
    "\n",
    "# Bind covariates\n",
    "Xnan = df[[\"z_score_prior\"]].values\n",
    "X = df[[\"z_score_prior\"]].values\n",
    "G = df[[\"G\"]].values\n",
    "D = df[[\"D\"]].values\n",
    "S = df[[\"z_score3\"]].values\n",
    "V = df[[\"z_score_prior\"]].values\n",
    "Y = df[[\"z_score8\"]].values\n",
    "\n",
    "\n",
    "#drop NaNs\n",
    "X = X[~np.isnan(Xnan)].reshape(-1,1)\n",
    "G = G[~np.isnan(Xnan)].reshape(-1,1)\n",
    "D = D[~np.isnan(Xnan)].reshape(-1,1)\n",
    "S = S[~np.isnan(Xnan)].reshape(-1,1)\n",
    "Y = Y[~np.isnan(Xnan)].reshape(-1,1)\n",
    "V = V[~np.isnan(Xnan)].reshape(-1,1)\n",
    "\n",
    "ones = np.ones((X.shape[0], 1))"
   ]
  },
  {
   "cell_type": "code",
   "execution_count": 5,
   "metadata": {},
   "outputs": [],
   "source": [
    "percentiles = np.arange(5, 100, 5)\n",
    "#Input the vector little v where wwe want to center local estimate theta\n",
    "v_values = np.percentile(V, percentiles)\n"
   ]
  },
  {
   "cell_type": "code",
   "execution_count": 6,
   "metadata": {},
   "outputs": [],
   "source": [
    "p = 0.1  # dropout prob of dropout layers throughout notebook\n",
    "n_hidden = 200  # width of hidden layers throughout notebook\n",
    "\n",
    "\n",
    "def _get_learner(n_t):\n",
    "    return nn.Sequential(nn.Dropout(p=p), nn.Linear(n_t, n_hidden), nn.LeakyReLU(),\n",
    "                         nn.Dropout(p=p), nn.Linear(n_hidden, 1))\n",
    "\n",
    "\n",
    "def _get_adversary(n_z):\n",
    "    return nn.Sequential(nn.Dropout(p=p), nn.Linear(n_z, n_hidden), nn.LeakyReLU(),\n",
    "                         nn.Dropout(p=p), nn.Linear(n_hidden, 1))\n",
    "\n",
    "\n",
    "m1 = AGMM(_get_learner(1),_get_adversary(1))\n",
    "m2 = AGMM(_get_learner(2),_get_adversary(2))"
   ]
  },
  {
   "cell_type": "code",
   "execution_count": 7,
   "metadata": {},
   "outputs": [],
   "source": [
    "#m1 = tsls()\n",
    "#m2 = tsls()"
   ]
  },
  {
   "cell_type": "code",
   "execution_count": 8,
   "metadata": {},
   "outputs": [
    {
     "name": "stdout",
     "output_type": "stream",
     "text": [
      "Rep: 1\n"
     ]
    },
    {
     "name": "stderr",
     "output_type": "stream",
     "text": [
      "100%|██████████| 5/5 [00:50<00:00, 10.20s/it]\n"
     ]
    }
   ],
   "source": [
    "ind = np.where(G == 0)[0]\n",
    "Y1 = Y[ind]\n",
    "D1 = D[ind]\n",
    "X11 = X[ind]\n",
    "ones1 = ones[ind]\n",
    "\n",
    "dml_npiv = DML_npiv(Y1, D1, ones1, ones1, V=X11, v_values = v_values,\n",
    "                        estimator='MR',\n",
    "                        loc_kernel='gau',\n",
    "                        bw_loc='silverman',\n",
    "                        model1 = m1,\n",
    "                        nn_1 = True,\n",
    "                        modelq1 = tsls(),\n",
    "                        nn_q1 = False,\n",
    "                n_folds=5, n_rep=1, CHIM = False, prop_score=LogisticRegression(max_iter=2000), opts = {'lin_degree': 11})\n",
    "\n",
    "theta_oracle, vart_oracle, ci_oracle = dml_npiv.dml()\n",
    "\n",
    "lower_ci_oracle = ci_oracle[:, 0]\n",
    "upper_ci_oracle = ci_oracle[:, 1]\n",
    "yerr_oracle = [theta_oracle - lower_ci_oracle, upper_ci_oracle - theta_oracle]\n"
   ]
  },
  {
   "cell_type": "code",
   "execution_count": 9,
   "metadata": {},
   "outputs": [
    {
     "data": {
      "text/plain": [
       "<matplotlib.lines.Line2D at 0x21edd0cb340>"
      ]
     },
     "execution_count": 9,
     "metadata": {},
     "output_type": "execute_result"
    },
    {
     "data": {
      "image/png": "[encoded data removed]",
      "text/plain": [
       "<Figure size 700x300 with 1 Axes>"
      ]
     },
     "metadata": {},
     "output_type": "display_data"
    }
   ],
   "source": [
    "\n",
    "plt.figure(figsize=(7, 3))\n",
    "plt.plot(theta_oracle)\n",
    "plt.axhline(np.mean(theta_oracle, axis=0), linewidth=1)  # Adjust line properties as needed\n",
    "plt.axhline(y=0, color='black', linestyle='--', linewidth=1)  # Adjust line properties as needed"
   ]
  },
  {
   "cell_type": "code",
   "execution_count": 10,
   "metadata": {},
   "outputs": [
    {
     "data": {
      "text/plain": [
       "array([-0.14807285, -0.01221003, -0.09738579, -0.15586284, -0.05774738,\n",
       "        0.06398129,  0.08376412,  0.00765521, -0.0635274 , -0.13861145,\n",
       "       -0.15964096, -0.16412554, -0.15842789, -0.15369307, -0.14010517,\n",
       "       -0.11602908, -0.09553539, -0.07935576, -0.04459452])"
      ]
     },
     "execution_count": 10,
     "metadata": {},
     "output_type": "execute_result"
    }
   ],
   "source": [
    "theta_oracle"
   ]
  },
  {
   "cell_type": "code",
   "execution_count": 11,
   "metadata": {},
   "outputs": [
    {
     "data": {
      "text/plain": [
       "[array([0.41261553, 0.29164423, 0.2373068 , 0.22251946, 0.20353533,\n",
       "        0.17139692, 0.15430987, 0.16203048, 0.16739711, 0.16356102,\n",
       "        0.15956182, 0.15725683, 0.15967726, 0.1621932 , 0.16208412,\n",
       "        0.15894607, 0.15686425, 0.16806109, 0.21323986]),\n",
       " array([0.41261553, 0.29164423, 0.2373068 , 0.22251946, 0.20353533,\n",
       "        0.17139692, 0.15430987, 0.16203048, 0.16739711, 0.16356102,\n",
       "        0.15956182, 0.15725683, 0.15967726, 0.1621932 , 0.16208412,\n",
       "        0.15894607, 0.15686425, 0.16806109, 0.21323986])]"
      ]
     },
     "execution_count": 11,
     "metadata": {},
     "output_type": "execute_result"
    }
   ],
   "source": [
    "yerr_oracle"
   ]
  }
 ],
 "metadata": {
  "kernelspec": {
   "display_name": "Python 3",
   "language": "python",
   "name": "python3"
  },
  "language_info": {
   "codemirror_mode": {
    "name": "ipython",
    "version": 3
   },
   "file_extension": ".py",
   "mimetype": "text/x-python",
   "name": "python",
   "nbconvert_exporter": "python",
   "pygments_lexer": "ipython3",
   "version": "3.9.13"
  },
  "orig_nbformat": 4
 },
 "nbformat": 4,
 "nbformat_minor": 2
}
