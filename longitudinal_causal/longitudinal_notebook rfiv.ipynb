{
 "cells": [
  {
   "cell_type": "code",
   "execution_count": 52,
   "metadata": {},
   "outputs": [],
   "source": [
    "import os\n",
    "import numpy as np\n",
    "import pandas as pd\n",
    "\n",
    "import ivfunctions_nested \n",
    "import mliv.dgps_nested as dgps\n",
    "import matplotlib.pyplot as plt\n",
    "\n",
    "from mliv.rkhs import RKHSIV, ApproxRKHSIVCV, RKHSIVCV, RKHSIVL2CV, RKHSIVL2, RKHS2IVCV\n",
    "\n",
    "\n",
    " "
   ]
  },
  {
   "cell_type": "code",
   "execution_count": 53,
   "metadata": {},
   "outputs": [],
   "source": [
    "fn_number = 0\n",
    "tau_fn = dgps.get_tau_fn(fn_number)"
   ]
  },
  {
   "cell_type": "code",
   "execution_count": 54,
   "metadata": {},
   "outputs": [],
   "source": [
    "A, D, B, C, Y, tau_fn = dgps.get_data(3000, 10, 10, tau_fn, 2)\n",
    "\n",
    "\n",
    "B_test = np.zeros((1000, B.shape[1]))\n",
    "B_test += np.median(B, axis=0, keepdims=True)\n",
    "B_test[:, 0] = np.linspace(np.percentile(B[:, 0], 5), np.percentile(B[:, 0], 95), 1000)\n",
    "\n",
    "B_test = B_test[np.argsort(B_test[:, 0])]\n",
    "true_fn = tau_fn(B_test)\n"
   ]
  },
  {
   "cell_type": "code",
   "execution_count": 55,
   "metadata": {},
   "outputs": [],
   "source": [
    "def nested_npivfit(A, B, C, D, Y, B_test, model, fitargs=None):\n",
    "    \n",
    "    B1_test = B_test\n",
    "    Y = Y\n",
    "    A1 = A\n",
    "    B1 = B\n",
    "    A2 = D\n",
    "    B2 = C\n",
    "\n",
    "    #First stage\n",
    "    if fitargs is not None:\n",
    "        model.fit(A2, A1, Y, **fitargs)\n",
    "    else:\n",
    "        model.fit(A2, A1, Y)\n",
    "    bridge_fs = model.predict(A1)\n",
    "    bridge_fs = bridge_fs.reshape(A1.shape[:1] + Y.shape[1:])\n",
    "\n",
    "    #Second stage\n",
    "    if fitargs is not None:\n",
    "        model.fit(B2, B1, bridge_fs, **fitargs)\n",
    "    else:\n",
    "        model.fit(B2, B1, bridge_fs)\n",
    "    \n",
    "    y_pred = model.predict(B1_test)\n",
    "    return y_pred.reshape(B1_test.shape[:1] + Y.shape[1:])\n",
    "\n",
    "\n",
    "\n"
   ]
  },
  {
   "cell_type": "code",
   "execution_count": 56,
   "metadata": {},
   "outputs": [],
   "source": [
    "from mliv.ensemble import EnsembleIV, EnsembleIVL2, Ensemble2IV, Ensemble2IVL2"
   ]
  },
  {
   "cell_type": "code",
   "execution_count": 57,
   "metadata": {},
   "outputs": [],
   "source": [
    "# Copyright (c) Microsoft Corporation.\n",
    "# Licensed under the MIT License.\n",
    "\n",
    "import numpy as np\n",
    "from sklearn.ensemble import RandomForestRegressor, RandomForestClassifier\n",
    "from sklearn.base import clone\n",
    "from sklearn.model_selection import KFold\n",
    "from sklearn.metrics import mean_squared_error\n",
    "\n",
    "def _mysign(x):\n",
    "    return 2 * (x >= 0) - 1\n",
    "\n",
    "\n",
    "class Ensemble2IV:\n",
    "\n",
    "    def __init__(self, adversary='auto', learnerg='auto', learnerh='auto',\n",
    "                 max_abs_value=4, n_iter=100, n_burn_in=10):\n",
    "        self.adversary = adversary\n",
    "        self.learnerg = learnerg\n",
    "        self.learnerh = learnerh\n",
    "        self.max_abs_value = max_abs_value\n",
    "        self.n_iter = n_iter\n",
    "        self.n_burn_in = n_burn_in\n",
    "        return\n",
    "\n",
    "    def _check_input(self, A, B, C, D, Y):\n",
    "        if len(A.shape) == 1:\n",
    "            A = A.reshape(-1, 1)\n",
    "        if len(B.shape) == 1:\n",
    "            B = B.reshape(-1, 1)\n",
    "        if len(C.shape) == 1:\n",
    "            C = C.reshape(-1, 1)\n",
    "        if len(D.shape) == 1:\n",
    "            D = D.reshape(-1, 1)\n",
    "        return A, B, C, D, Y.flatten()\n",
    "\n",
    "    def _get_new_adversary(self):\n",
    "        return RandomForestRegressor(n_estimators=40, max_depth=2,\n",
    "                                     bootstrap=True, min_samples_leaf=40, min_impurity_decrease=0.001) if self.adversary == 'auto' else clone(self.adversary)\n",
    "\n",
    "    def _get_new_learnerg(self):\n",
    "        return RandomForestClassifier(n_estimators=5, max_depth=2, criterion='gini',\n",
    "                                      bootstrap=False, min_samples_leaf=40, min_impurity_decrease=0.001) if self.learnerg == 'auto' else clone(self.learnerg)\n",
    "    \n",
    "    def _get_new_learnerh(self):\n",
    "        return RandomForestClassifier(n_estimators=5, max_depth=2, criterion='gini',\n",
    "                                      bootstrap=False, min_samples_leaf=40, min_impurity_decrease=0.001) if self.learnerh == 'auto' else clone(self.learnerh)\n",
    "\n",
    "    def fit(self, A, B, C, D, Y):\n",
    "        A, B, C, D, Y = self._check_input(A, B, C, D, Y)\n",
    "        max_value = self.max_abs_value\n",
    "        adversary1 = self._get_new_adversary().fit(D, -Y.flatten())\n",
    "        adversary2 = self._get_new_adversary().fit(C, np.zeros(Y.shape))\n",
    "        learnersg = []\n",
    "        learnersh = []\n",
    "        h = 0\n",
    "        g = 0\n",
    "        for it in range(self.n_iter + self.n_burn_in):\n",
    "            v = -adversary2.predict(C).flatten()\n",
    "            v_ = -adversary1.predict(D).flatten() - v\n",
    "            aug_A = np.vstack([np.zeros((2, A.shape[1])), A])\n",
    "            aug_B = np.vstack([np.zeros((2, B.shape[1])), B])\n",
    "            lbl_v = np.concatenate(([-1, 1], _mysign(v)))\n",
    "            lbl_v_ = np.concatenate(([-1, 1], _mysign(v_)))\n",
    "\n",
    "            wt_v = np.concatenate(([0, 0], np.abs(v)))\n",
    "            wt_v_ = np.concatenate(([0, 0], np.abs(v_)))\n",
    "\n",
    "            learnersg.append(self._get_new_learnerg().fit(\n",
    "                aug_A, lbl_v_, sample_weight=wt_v_))\n",
    "            learnersh.append(self._get_new_learnerh().fit(\n",
    "                aug_B, lbl_v, sample_weight=wt_v))\n",
    "            g = g * it / (it + 1)\n",
    "            h = h * it / (it + 1)\n",
    "\n",
    "            g += max_value * _mysign(learnersg[it].predict_proba(A)[\n",
    "                :, -1] * learnersg[it].classes_[-1] - 1 / 2) / (it + 1)\n",
    "            h += max_value * _mysign(learnersh[it].predict_proba(B)[\n",
    "                :, -1] * learnersh[it].classes_[-1] - 1 / 2) / (it + 1)\n",
    "            adversary2.fit(C, h - g)\n",
    "            adversary1.fit(D, g - Y)\n",
    "\n",
    "        self.learnersg = learnersg[self.n_burn_in:]\n",
    "        self.learnersh = learnersh[self.n_burn_in:]\n",
    "        return self\n",
    "\n",
    "    def predict(self, B, *args):\n",
    "        if len(args) == 0:\n",
    "            # Only B_test provided, return h prediction\n",
    "            return np.mean([self.max_abs_value * _mysign(l.predict_proba(B)\n",
    "                                                     [:, -1] * l.classes_[-1] - 1 / 2) for l in self.learnersh], axis=0)\n",
    "        elif len(args) == 1:\n",
    "            # Two arguments provided, assume the second is A_test\n",
    "            A = args[0]\n",
    "            pred_h = np.mean([self.max_abs_value * _mysign(l.predict_proba(B)\n",
    "                                                     [:, -1] * l.classes_[-1] - 1 / 2) for l in self.learnersh], axis=0)\n",
    "            pred_g = np.mean([self.max_abs_value * _mysign(l.predict_proba(A)\n",
    "                                                     [:, -1] * l.classes_[-1] - 1 / 2) for l in self.learnersg], axis=0)\n",
    "            return pred_h, pred_g\n",
    "\n",
    "        else:\n",
    "            # More than one additional argument provided, raise an error\n",
    "            raise ValueError(\"predict expects at most two arguments, B_test and optionally A_test\")\n"
   ]
  },
  {
   "cell_type": "code",
   "execution_count": 58,
   "metadata": {},
   "outputs": [],
   "source": [
    "rfiv_model = EnsembleIV(n_iter=200, max_abs_value=2)\n",
    "rfiv_pred = nested_npivfit(A, B, C, D, Y, B_test, model=rfiv_model)\n",
    " "
   ]
  },
  {
   "cell_type": "code",
   "execution_count": 69,
   "metadata": {},
   "outputs": [],
   "source": [
    "adversary = RandomForestRegressor(n_estimators=100, max_depth=2,\n",
    "                                    bootstrap=True, min_samples_leaf=40, min_impurity_decrease=0.001)\n",
    "\n",
    "learnerh =  RandomForestRegressor(n_estimators=200, max_depth=2,\n",
    "                                    bootstrap=True, min_samples_leaf=40, min_impurity_decrease=0.001)\n",
    "\n",
    "rfivl2_model = EnsembleIVL2(n_iter=500, adversary=adversary, learner=learnerh)\n",
    "\n",
    "rfivl2_pred = nested_npivfit(A, B, C, D, Y, B_test, model=rfivl2_model)"
   ]
  },
  {
   "cell_type": "code",
   "execution_count": 60,
   "metadata": {},
   "outputs": [],
   "source": [
    "\n",
    "\n",
    "adversary = RandomForestRegressor(n_estimators=100, max_depth=2,\n",
    "                                    bootstrap=True, min_samples_leaf=40, min_impurity_decrease=0.001)\n",
    "learnerg = RandomForestClassifier(n_estimators=20, max_depth=2, criterion='gini',\n",
    "                                    bootstrap=False, min_samples_leaf=40, min_impurity_decrease=0.001)\n",
    "learnerh = RandomForestClassifier(n_estimators=50, max_depth=2, criterion='gini',\n",
    "                                    bootstrap=False, min_samples_leaf=40, min_impurity_decrease=0.001)\n",
    "\n",
    "rfiv2_model = Ensemble2IV(n_iter=500, max_abs_value=2, adversary=adversary, learnerg=learnerg, learnerh=learnerh, n_burn_in=100)\n",
    "\n",
    "#rfiv2_model = Ensemble2IV(n_iter=200, max_abs_value=4)\n",
    "rfiv2_pred = rfiv2_model.fit(A, B, C, D, Y).predict(B_test)"
   ]
  },
  {
   "cell_type": "code",
   "execution_count": 66,
   "metadata": {},
   "outputs": [],
   "source": [
    "adversary = RandomForestRegressor(n_estimators=100, max_depth=2,\n",
    "                                    bootstrap=True, min_samples_leaf=40, min_impurity_decrease=0.001)\n",
    "learnerg = RandomForestRegressor(n_estimators=100, max_depth=2,\n",
    "                                    bootstrap=True, min_samples_leaf=40, min_impurity_decrease=0.001)\n",
    "learnerh =  RandomForestRegressor(n_estimators=200, max_depth=2,\n",
    "                                    bootstrap=True, min_samples_leaf=40, min_impurity_decrease=0.001)\n",
    "\n",
    "\n",
    "rfiv2l2_model = Ensemble2IVL2(n_iter=500, adversary=adversary, learnerg=learnerg, learnerh=learnerh, burn_in=100)\n",
    "\n",
    "rfiv2l2_pred = rfiv2l2_model.fit(A, B, C, D, Y).predict(B_test)"
   ]
  },
  {
   "cell_type": "code",
   "execution_count": 70,
   "metadata": {},
   "outputs": [
    {
     "data": {
      "text/plain": [
       "<matplotlib.legend.Legend at 0x1c419ad9310>"
      ]
     },
     "execution_count": 70,
     "metadata": {},
     "output_type": "execute_result"
    },
    {
     "data": {
      "image/png": "[encoded data removed]",
      "text/plain": [
       "<Figure size 640x480 with 1 Axes>"
      ]
     },
     "metadata": {},
     "output_type": "display_data"
    }
   ],
   "source": [
    "plt.plot(B_test[:, 0], true_fn, label='True value')\n",
    "plt.plot(B_test[:, 0], rfiv_pred, label='EnsembleIV')\n",
    "plt.plot(B_test[:, 0], rfivl2_pred, label='EnsembleIVL2')\n",
    "plt.plot(B_test[:, 0], rfiv2_pred, label='Ensemble2IV')\n",
    "plt.plot(B_test[:, 0], rfiv2l2_pred, label='Ensemble2IVL2')\n",
    "plt.legend()\n"
   ]
  },
  {
   "cell_type": "code",
   "execution_count": null,
   "metadata": {},
   "outputs": [],
   "source": []
  }
 ],
 "metadata": {
  "kernelspec": {
   "display_name": "nnpiv_venv",
   "language": "python",
   "name": "python3"
  },
  "language_info": {
   "codemirror_mode": {
    "name": "ipython",
    "version": 3
   },
   "file_extension": ".py",
   "mimetype": "text/x-python",
   "name": "python",
   "nbconvert_exporter": "python",
   "pygments_lexer": "ipython3",
   "version": "3.9.13"
  }
 },
 "nbformat": 4,
 "nbformat_minor": 2
}
