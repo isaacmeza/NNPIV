{
 "cells": [
  {
   "cell_type": "code",
   "execution_count": 1,
   "metadata": {},
   "outputs": [],
   "source": [
    "import os\n",
    "import matplotlib.pyplot as plt\n",
    "import numpy as np\n",
    "from sklearn.linear_model import Lasso, LassoCV, LogisticRegression, LogisticRegressionCV, LinearRegression,\\\n",
    "    ElasticNet, ElasticNetCV, MultiTaskElasticNet, MultiTaskElasticNetCV\n",
    "from sklearn.ensemble import RandomForestRegressor, RandomForestClassifier\n",
    "from sklearn.preprocessing import PolynomialFeatures\n",
    "from sklearn.model_selection import train_test_split\n",
    "import mliv.dgps_mediated as dgps\n",
    "from mliv.ensemble import EnsembleIV, EnsembleIVStar\n",
    "from mliv.rkhs import ApproxRKHSIVCV\n",
    "from mliv.shape import LipschitzShapeIV, ShapeIV\n",
    "from mliv.linear import OptimisticHedgeVsOptimisticHedge, StochasticOptimisticHedgeVsOptimisticHedge\n",
    "from mliv.linear import L2OptimisticHedgeVsOGD, L2ProxGradient\n",
    "from sklearn.pipeline import Pipeline\n",
    "\n",
    "from pathlib import Path\n",
    "import numpy as np\n",
    "import torch\n",
    "import torch.nn as nn\n",
    "from sklearn.cluster import KMeans\n",
    "#from mliv.neuralnet.deepiv_fit import deep_iv_fit\n",
    "from mliv.neuralnet.rbflayer import gaussian, inverse_multiquadric\n",
    "from mliv.neuralnet import AGMM, KernelLayerMMDGMM, CentroidMMDGMM, KernelLossAGMM, MMDGMM\n",
    "from mliv.tsls import tsls, regtsls\n",
    "\n",
    "p = 0.1  # dropout prob of dropout layers throughout notebook\n",
    "n_hidden = 100  # width of hidden layers throughout notebook\n",
    "\n",
    "# For any method that use a projection of z into features g(z)\n",
    "g_features = 100\n",
    "\n",
    "# The kernel function\n",
    "kernel_fn = gaussian\n",
    "# kernel_fn = inverse_multiquadric\n",
    "\n",
    "# Training params\n",
    "learner_lr = 1e-4\n",
    "adversary_lr = 1e-4\n",
    "learner_l2 = 1e-3\n",
    "adversary_l2 = 1e-4\n",
    "adversary_norm_reg = 1e-3\n",
    "n_epochs = 300\n",
    "bs = 100\n",
    "sigma = 2.0 / g_features\n",
    "n_centers = 100\n",
    "device = torch.cuda.current_device() if torch.cuda.is_available() else None\n"
   ]
  },
  {
   "cell_type": "code",
   "execution_count": 2,
   "metadata": {},
   "outputs": [],
   "source": [
    "from dml_mediated import DML_mediated"
   ]
  },
  {
   "cell_type": "code",
   "execution_count": 3,
   "metadata": {},
   "outputs": [
    {
     "name": "stdout",
     "output_type": "stream",
     "text": [
      "(2000, 4)\n"
     ]
    }
   ],
   "source": [
    "fn_number = 0\n",
    "tau_fn = dgps.get_tau_fn(fn_number)\n",
    "tauinv_fn = dgps.get_tauinv_fn(fn_number)\n",
    "W, Z, X, M, D, Y, tau_fn = dgps.get_data(2000, tau_fn)\n",
    "\n",
    "V = np.random.rand(Y.shape[0])\n",
    "V = V.reshape(-1, 1)\n",
    "\n",
    "print(np.column_stack((W,X,Z)).shape)\n",
    "ind = np.where(D==0)[0]\n",
    "W0 = W[ind]\n",
    "X0 = X[ind,:]\n",
    "W0_test = np.zeros((1000, 1+X.shape[1]))\n",
    "W0_test += np.median(np.column_stack((X0,W0)), axis=0, keepdims=True)\n",
    "W0_test[:, 2] = np.linspace(np.percentile(\n",
    "            W0[:, 0], 5), np.percentile(W0[:, 0], 95), 1000)\n",
    "\n",
    "# True parameters\n",
    "b_yd = 2.0; b_ym = 1.0; b_yx = np.array([[-1.0],[-1.0]]); b_yu = -1.0; b_yw = 2.0; b_y0 = 2.0\n",
    "b_wx = np.array([[0.2],[0.2]]); b_wu = -0.6; b_w0 = 0.3\n",
    "b_md = -0.3; b_mx = np.array([[-0.5],[-0.5]]); b_mu = 0.4; b_m0 = 0.0\n",
    "    \n",
    "gamma_1w = (b_yw*b_wu + b_yu)/b_wu\n",
    "gamma_1x = b_yw*b_wx + b_yx - gamma_1w*b_wx\n",
    "gamma_1m = b_ym\n",
    "gamma_10 = b_y0 + b_yd + b_yw*b_w0 - gamma_1w*b_w0\n",
    "\n",
    "gamma_0w = (gamma_1m*b_mu + gamma_1w*b_wu)/b_wu\n",
    "gamma_0x = gamma_1m*b_mx + gamma_1w*b_wx + gamma_1x - gamma_0w*b_wx\n",
    "gamma_00 = gamma_10 + gamma_1m*b_m0 + gamma_1w*b_w0 - gamma_0w*b_w0\n",
    "\n",
    "    # True nuisance function\n",
    "expected_te = gamma_00 + tauinv_fn(W0_test)@np.row_stack((gamma_0x, gamma_0w))\n"
   ]
  },
  {
   "cell_type": "code",
   "execution_count": 4,
   "metadata": {},
   "outputs": [],
   "source": [
    "rkhs_model = ApproxRKHSIVCV(kernel_approx='nystrom', n_components=100,\n",
    "                           kernel='rbf', gamma=.1, delta_scale='auto',\n",
    "                           delta_exp=.4, alpha_scales=np.geomspace(1, 10000, 10), cv=5)\n",
    "\n",
    "def _get_learner(n_t):\n",
    "    return nn.Sequential(nn.Dropout(p=p), nn.Linear(n_t, n_hidden), nn.LeakyReLU(),\n",
    "                         nn.Dropout(p=p), nn.Linear(n_hidden, 1))\n",
    "\n",
    "\n",
    "def _get_adversary(n_z):\n",
    "    return nn.Sequential(nn.Dropout(p=p), nn.Linear(n_z, n_hidden), nn.LeakyReLU(),\n",
    "                         nn.Dropout(p=p), nn.Linear(n_hidden, 1))\n",
    "\n",
    "\n",
    "def _get_adversary_g(n_z):\n",
    "    return nn.Sequential(nn.Dropout(p=p), nn.Linear(n_z, n_hidden), nn.LeakyReLU(),\n",
    "                         nn.Dropout(p=p), nn.Linear(n_hidden, g_features), nn.ReLU())\n",
    "\n",
    "\n",
    "agmm_1 = AGMM(_get_learner(4),_get_adversary(4))\n",
    "agmm_2 = AGMM(_get_learner(3),_get_adversary(3))"
   ]
  },
  {
   "cell_type": "code",
   "execution_count": 5,
   "metadata": {},
   "outputs": [],
   "source": [
    "dml_rkhs = DML_mediated(Y, D, M, W, Z, X,\n",
    "                        model1 = rkhs_model,\n",
    "                        model2 = rkhs_model,\n",
    "                        modelq1 = rkhs_model,\n",
    "                        modelq2 = rkhs_model,\n",
    "                n_folds=5, n_rep=3)\n",
    "\n",
    "dml_agmm = DML_mediated(Y, D, M, W, Z, X,\n",
    "                        model1 = agmm_1,\n",
    "                        model2 = agmm_2,\n",
    "                        modelq1 = agmm_2,\n",
    "                        modelq2 = agmm_1,\n",
    "                        n_folds=5, n_rep=1,\n",
    "                        CHIM = False,\n",
    "                        nn_1 = True,\n",
    "                        nn_2 = True,\n",
    "                        nn_q1 = True,\n",
    "                        nn_q2 = True,\n",
    "                        fitargs1 = {'n_epochs': 300, 'bs': 100, 'learner_lr': 1e-4, 'adversary_lr': 1e-4, 'learner_l2': 1e-3, 'adversary_l2': 1e-4, 'adversary_norm_reg' : 1e-3},\n",
    "                        fitargs2 = {'n_epochs': 300, 'bs': 100, 'learner_lr': 1e-4, 'adversary_lr': 1e-4, 'learner_l2': 1e-3, 'adversary_l2': 1e-4},\n",
    "                        fitargsq1 = {'n_epochs': 300, 'bs': 100, 'learner_lr': 1e-4, 'adversary_lr': 1e-4, 'learner_l2': 1e-3, 'adversary_l2': 1e-4},\n",
    "                        fitargsq2 = {'n_epochs': 300, 'bs': 100, 'learner_lr': 1e-4, 'adversary_lr': 1e-4, 'learner_l2': 1e-3, 'adversary_l2': 1e-4},\n",
    "                        opts = {'lin_degree': 1, 'burnin': 200})\n",
    "\n",
    "dml_2sls = DML_mediated(Y, D, M, W, Z, X,\n",
    "                        model1 = tsls(),\n",
    "                        model2 = tsls(),\n",
    "                        modelq1 = tsls(),\n",
    "                        modelq2 = tsls(),\n",
    "                n_folds=10, n_rep=3)\n",
    "\n",
    "dml_2sls_chim = DML_mediated(Y, D, M, W, Z, X,\n",
    "                        model1 = tsls(),\n",
    "                        model2 = tsls(),\n",
    "                        modelq1 = tsls(),\n",
    "                        modelq2 = tsls(),\n",
    "                        CHIM=True,\n",
    "                n_folds=10, n_rep=3)\n",
    "\n",
    "\n",
    "dml_rfiv = DML_mediated(Y, D, M, W, Z, X,\n",
    "                        model1 = EnsembleIV(n_iter=200, max_abs_value=2),\n",
    "                        model2 = EnsembleIV(n_iter=200, max_abs_value=2),\n",
    "                        modelq1 = EnsembleIV(n_iter=200, max_abs_value=2),\n",
    "                        modelq2 = EnsembleIV(n_iter=200, max_abs_value=2),\n",
    "                n_folds=5, n_rep=1)    \n"
   ]
  },
  {
   "cell_type": "code",
   "execution_count": 6,
   "metadata": {},
   "outputs": [],
   "source": [
    "dml_rkhs_or = DML_mediated(Y, D, M, W, Z, X,\n",
    "                        model1 = rkhs_model,\n",
    "                        model2 = rkhs_model,\n",
    "                        modelq1 = rkhs_model,\n",
    "                        modelq2 = rkhs_model,\n",
    "                n_folds=5, n_rep=3, estimator='OR')\n",
    "\n",
    "dml_rkhs_ipw = DML_mediated(Y, D, M, W, Z, X,\n",
    "                        model1 = rkhs_model,\n",
    "                        model2 = rkhs_model,\n",
    "                        modelq1 = rkhs_model,\n",
    "                        modelq2 = rkhs_model,\n",
    "                n_folds=5, n_rep=3, estimator='IPW')\n",
    "\n",
    "dml_rkhs_hybrid = DML_mediated(Y, D, M, W, Z, X,\n",
    "                        model1 = rkhs_model,\n",
    "                        model2 = rkhs_model,\n",
    "                        modelq1 = rkhs_model,\n",
    "                        modelq2 = rkhs_model,\n",
    "                n_folds=5, n_rep=3, estimator='hybrid')\n"
   ]
  },
  {
   "cell_type": "code",
   "execution_count": 15,
   "metadata": {},
   "outputs": [
    {
     "name": "stdout",
     "output_type": "stream",
     "text": [
      "Rep: 1\n"
     ]
    },
    {
     "name": "stderr",
     "output_type": "stream",
     "text": [
      "100%|██████████| 5/5 [00:06<00:00,  1.28s/it]\n"
     ]
    },
    {
     "name": "stdout",
     "output_type": "stream",
     "text": [
      "Rep: 2\n"
     ]
    },
    {
     "name": "stderr",
     "output_type": "stream",
     "text": [
      "100%|██████████| 5/5 [00:07<00:00,  1.44s/it]\n"
     ]
    },
    {
     "name": "stdout",
     "output_type": "stream",
     "text": [
      "Rep: 3\n"
     ]
    },
    {
     "name": "stderr",
     "output_type": "stream",
     "text": [
      "100%|██████████| 5/5 [00:06<00:00,  1.29s/it]"
     ]
    },
    {
     "name": "stdout",
     "output_type": "stream",
     "text": [
      "(4.042785919417782, 29.7095548009198, array([3.80390516, 4.28166668]))\n"
     ]
    },
    {
     "name": "stderr",
     "output_type": "stream",
     "text": [
      "\n"
     ]
    }
   ],
   "source": [
    "print(dml_rkhs.dml())"
   ]
  },
  {
   "cell_type": "code",
   "execution_count": 16,
   "metadata": {},
   "outputs": [
    {
     "name": "stdout",
     "output_type": "stream",
     "text": [
      "Rep: 1\n"
     ]
    },
    {
     "name": "stderr",
     "output_type": "stream",
     "text": [
      "100%|██████████| 5/5 [00:02<00:00,  1.90it/s]\n"
     ]
    },
    {
     "name": "stdout",
     "output_type": "stream",
     "text": [
      "Rep: 2\n"
     ]
    },
    {
     "name": "stderr",
     "output_type": "stream",
     "text": [
      "100%|██████████| 5/5 [00:02<00:00,  2.11it/s]\n"
     ]
    },
    {
     "name": "stdout",
     "output_type": "stream",
     "text": [
      "Rep: 3\n"
     ]
    },
    {
     "name": "stderr",
     "output_type": "stream",
     "text": [
      "100%|██████████| 5/5 [00:02<00:00,  1.97it/s]"
     ]
    },
    {
     "name": "stdout",
     "output_type": "stream",
     "text": [
      "(4.039927024378075, 11.404901870033441, array([3.89192118, 4.18793287]))\n"
     ]
    },
    {
     "name": "stderr",
     "output_type": "stream",
     "text": [
      "\n"
     ]
    }
   ],
   "source": [
    "print(dml_rkhs_or.dml())"
   ]
  },
  {
   "cell_type": "code",
   "execution_count": 17,
   "metadata": {},
   "outputs": [
    {
     "name": "stdout",
     "output_type": "stream",
     "text": [
      "Rep: 1\n"
     ]
    },
    {
     "name": "stderr",
     "output_type": "stream",
     "text": [
      "100%|██████████| 5/5 [00:02<00:00,  1.74it/s]\n"
     ]
    },
    {
     "name": "stdout",
     "output_type": "stream",
     "text": [
      "Rep: 2\n"
     ]
    },
    {
     "name": "stderr",
     "output_type": "stream",
     "text": [
      "100%|██████████| 5/5 [00:02<00:00,  1.99it/s]\n"
     ]
    },
    {
     "name": "stdout",
     "output_type": "stream",
     "text": [
      "Rep: 3\n"
     ]
    },
    {
     "name": "stderr",
     "output_type": "stream",
     "text": [
      "100%|██████████| 5/5 [00:02<00:00,  2.10it/s]"
     ]
    },
    {
     "name": "stdout",
     "output_type": "stream",
     "text": [
      "(3.8666126997583103, 53.52630884081993, array([3.54597341, 4.18725199]))\n"
     ]
    },
    {
     "name": "stderr",
     "output_type": "stream",
     "text": [
      "\n"
     ]
    }
   ],
   "source": [
    "print(dml_rkhs_ipw.dml())"
   ]
  },
  {
   "cell_type": "code",
   "execution_count": 18,
   "metadata": {},
   "outputs": [
    {
     "name": "stdout",
     "output_type": "stream",
     "text": [
      "Rep: 1\n"
     ]
    },
    {
     "name": "stderr",
     "output_type": "stream",
     "text": [
      "100%|██████████| 5/5 [00:02<00:00,  1.93it/s]\n"
     ]
    },
    {
     "name": "stdout",
     "output_type": "stream",
     "text": [
      "Rep: 2\n"
     ]
    },
    {
     "name": "stderr",
     "output_type": "stream",
     "text": [
      "100%|██████████| 5/5 [00:02<00:00,  1.93it/s]\n"
     ]
    },
    {
     "name": "stdout",
     "output_type": "stream",
     "text": [
      "Rep: 3\n"
     ]
    },
    {
     "name": "stderr",
     "output_type": "stream",
     "text": [
      "100%|██████████| 5/5 [00:02<00:00,  1.79it/s]"
     ]
    },
    {
     "name": "stdout",
     "output_type": "stream",
     "text": [
      "(4.016071805373283, 59.10488717336213, array([3.67913784, 4.35300577]))\n"
     ]
    },
    {
     "name": "stderr",
     "output_type": "stream",
     "text": [
      "\n"
     ]
    }
   ],
   "source": [
    "print(dml_rkhs_hybrid.dml())"
   ]
  },
  {
   "cell_type": "code",
   "execution_count": 8,
   "metadata": {},
   "outputs": [
    {
     "name": "stdout",
     "output_type": "stream",
     "text": [
      "Rep: 1\n"
     ]
    },
    {
     "name": "stderr",
     "output_type": "stream",
     "text": [
      "100%|██████████| 10/10 [00:00<00:00, 18.11it/s]\n"
     ]
    },
    {
     "name": "stdout",
     "output_type": "stream",
     "text": [
      "Rep: 2\n"
     ]
    },
    {
     "name": "stderr",
     "output_type": "stream",
     "text": [
      "100%|██████████| 10/10 [00:00<00:00, 13.35it/s]\n"
     ]
    },
    {
     "name": "stdout",
     "output_type": "stream",
     "text": [
      "Rep: 3\n"
     ]
    },
    {
     "name": "stderr",
     "output_type": "stream",
     "text": [
      "100%|██████████| 10/10 [00:00<00:00, 13.88it/s]\n"
     ]
    },
    {
     "name": "stdout",
     "output_type": "stream",
     "text": [
      "(3.9897819641864416, 24.675050727581464, array([3.77208011, 4.20748381]))\n",
      "Rep: 1\n"
     ]
    },
    {
     "name": "stderr",
     "output_type": "stream",
     "text": [
      "100%|██████████| 10/10 [00:01<00:00,  8.03it/s]\n"
     ]
    },
    {
     "name": "stdout",
     "output_type": "stream",
     "text": [
      "Rep: 2\n"
     ]
    },
    {
     "name": "stderr",
     "output_type": "stream",
     "text": [
      "100%|██████████| 10/10 [00:01<00:00,  9.37it/s]\n"
     ]
    },
    {
     "name": "stdout",
     "output_type": "stream",
     "text": [
      "Rep: 3\n"
     ]
    },
    {
     "name": "stderr",
     "output_type": "stream",
     "text": [
      "100%|██████████| 10/10 [00:00<00:00, 11.59it/s]"
     ]
    },
    {
     "name": "stdout",
     "output_type": "stream",
     "text": [
      "(3.989879135825183, 24.586854572316195, array([3.7725667 , 4.20719157]))\n"
     ]
    },
    {
     "name": "stderr",
     "output_type": "stream",
     "text": [
      "\n"
     ]
    }
   ],
   "source": [
    "print(dml_2sls.dml())\n",
    "print(dml_2sls_chim.dml())"
   ]
  },
  {
   "cell_type": "code",
   "execution_count": 9,
   "metadata": {},
   "outputs": [],
   "source": [
    "_ , gamma_0 = dml_2sls._nnpivfit_outcome(Y=Y, D=D, M=M, W=W, X=X, Z=Z)\n",
    "gamma0_hat = gamma_0.predict(W0_test)\n"
   ]
  },
  {
   "cell_type": "code",
   "execution_count": 10,
   "metadata": {},
   "outputs": [
    {
     "data": {
      "text/plain": [
       "<matplotlib.legend.Legend at 0x1628f866b50>"
      ]
     },
     "execution_count": 10,
     "metadata": {},
     "output_type": "execute_result"
    },
    {
     "data": {
      "image/png": "[encoded data removed]",
      "text/plain": [
       "<Figure size 640x480 with 1 Axes>"
      ]
     },
     "metadata": {},
     "output_type": "display_data"
    }
   ],
   "source": [
    "\n",
    "plt.show()\n",
    "plt.plot(gamma0_hat)\n",
    "plt.plot(expected_te)\n",
    "plt.legend(['rkhs', 'true'])"
   ]
  },
  {
   "cell_type": "code",
   "execution_count": 11,
   "metadata": {},
   "outputs": [
    {
     "name": "stdout",
     "output_type": "stream",
     "text": [
      "3.9851882798967546\n"
     ]
    }
   ],
   "source": [
    "\n",
    "print(np.mean(gamma_0.predict(np.column_stack((X, W)))))\n",
    "#In principle this should be the same as the 'OR' estimator\n"
   ]
  },
  {
   "cell_type": "code",
   "execution_count": 12,
   "metadata": {},
   "outputs": [
    {
     "name": "stdout",
     "output_type": "stream",
     "text": [
      "Rep: 1\n"
     ]
    },
    {
     "name": "stderr",
     "output_type": "stream",
     "text": [
      "100%|██████████| 10/10 [00:00<00:00, 19.10it/s]\n"
     ]
    },
    {
     "name": "stdout",
     "output_type": "stream",
     "text": [
      "Rep: 2\n"
     ]
    },
    {
     "name": "stderr",
     "output_type": "stream",
     "text": [
      "100%|██████████| 10/10 [00:00<00:00, 14.20it/s]\n"
     ]
    },
    {
     "name": "stdout",
     "output_type": "stream",
     "text": [
      "Rep: 3\n"
     ]
    },
    {
     "name": "stderr",
     "output_type": "stream",
     "text": [
      "100%|██████████| 10/10 [00:00<00:00, 18.54it/s]\n"
     ]
    },
    {
     "data": {
      "text/plain": [
       "(3.9897819641864416, 24.675050727581464, array([3.77208011, 4.20748381]))"
      ]
     },
     "execution_count": 12,
     "metadata": {},
     "output_type": "execute_result"
    }
   ],
   "source": [
    "dml_2sls.dml()"
   ]
  },
  {
   "cell_type": "code",
   "execution_count": 13,
   "metadata": {},
   "outputs": [
    {
     "name": "stdout",
     "output_type": "stream",
     "text": [
      "Rep: 1\n"
     ]
    },
    {
     "name": "stderr",
     "output_type": "stream",
     "text": [
      "100%|██████████| 10/10 [00:05<00:00,  1.91it/s]\n"
     ]
    },
    {
     "name": "stdout",
     "output_type": "stream",
     "text": [
      "Rep: 2\n"
     ]
    },
    {
     "name": "stderr",
     "output_type": "stream",
     "text": [
      "100%|██████████| 10/10 [00:04<00:00,  2.12it/s]\n"
     ]
    },
    {
     "name": "stdout",
     "output_type": "stream",
     "text": [
      "Rep: 3\n"
     ]
    },
    {
     "name": "stderr",
     "output_type": "stream",
     "text": [
      "100%|██████████| 10/10 [00:05<00:00,  1.97it/s]\n"
     ]
    },
    {
     "data": {
      "text/plain": [
       "(3.9897382786260955, 24.739534227996725, array([3.77175215, 4.2077244 ]))"
      ]
     },
     "execution_count": 13,
     "metadata": {},
     "output_type": "execute_result"
    }
   ],
   "source": [
    "dml_reg2sls = DML_mediated(Y, D, M, W, Z, X,\n",
    "                           estimator='MR',\n",
    "                        model1 = regtsls(),\n",
    "                        model2 = regtsls(),\n",
    "                        modelq1 = regtsls(),\n",
    "                        modelq2 = regtsls(),\n",
    "                n_folds=10, n_rep=3)     \n",
    "\n",
    "\n",
    "dml_reg2sls.dml()"
   ]
  },
  {
   "cell_type": "code",
   "execution_count": 14,
   "metadata": {},
   "outputs": [
    {
     "name": "stdout",
     "output_type": "stream",
     "text": [
      "Rep: 1\n"
     ]
    },
    {
     "name": "stderr",
     "output_type": "stream",
     "text": [
      "100%|██████████| 10/10 [00:01<00:00,  5.90it/s]\n"
     ]
    },
    {
     "name": "stdout",
     "output_type": "stream",
     "text": [
      "Rep: 2\n"
     ]
    },
    {
     "name": "stderr",
     "output_type": "stream",
     "text": [
      "100%|██████████| 10/10 [00:01<00:00,  6.09it/s]\n"
     ]
    },
    {
     "name": "stdout",
     "output_type": "stream",
     "text": [
      "Rep: 3\n"
     ]
    },
    {
     "name": "stderr",
     "output_type": "stream",
     "text": [
      "100%|██████████| 10/10 [00:01<00:00,  6.17it/s]"
     ]
    },
    {
     "name": "stdout",
     "output_type": "stream",
     "text": [
      "[4.16805091 4.03289225 4.03900938 4.18445646 4.31249635 4.36623252\n",
      " 4.34511055 4.19965223 3.96978413 3.71756127 3.70742401 3.92459108\n",
      " 4.15848892 4.33431323 4.27298306 3.96706468 3.46720289 3.24483498\n",
      " 3.22016827]\n",
      "3.980648272739806\n",
      "[262.9805494  192.87720224 176.99752368 185.62071486 177.35623236\n",
      " 162.19985124 158.79704472 153.7201157  142.51291843 131.43206493\n",
      " 133.30882971 148.33516278 157.89867421 162.75275107 161.92673592\n",
      " 154.3162788  152.64740953 161.97990158 190.60169256]\n",
      "[[3.45733685 4.87876497]\n",
      " [3.42423396 4.64155054]\n",
      " [3.45594477 4.622074  ]\n",
      " [3.5873575  4.78155542]\n",
      " [3.72884121 4.8961515 ]\n",
      " [3.80807302 4.92439202]\n",
      " [3.79283693 4.89738417]\n",
      " [3.65627874 4.74302572]\n",
      " [3.4465932  4.49297507]\n",
      " [3.21512179 4.22000075]\n",
      " [3.20140999 4.21343803]\n",
      " [3.39081987 4.4583623 ]\n",
      " [3.60777971 4.70919812]\n",
      " [3.77520323 4.89342323]\n",
      " [3.71529368 4.83067244]\n",
      " [3.42263855 4.51149081]\n",
      " [2.92572863 4.00867714]\n",
      " [2.68705406 3.80261591]\n",
      " [2.61511102 3.82522552]]\n"
     ]
    },
    {
     "name": "stderr",
     "output_type": "stream",
     "text": [
      "\n"
     ]
    }
   ],
   "source": [
    "percentiles = np.arange(5, 100, 5)\n",
    "v_values = np.percentile(V, percentiles)\n",
    "\n",
    "dml_2sls = DML_mediated(Y, D, M, W, Z, X, V=V,\n",
    "                        v_values=v_values,\n",
    "                        loc_kernel = 'gau',\n",
    "                        bw_loc = 'scott',\n",
    "                        model1 = tsls(),\n",
    "                        model2 = tsls(),\n",
    "                        modelq1 = tsls(),\n",
    "                        modelq2 = tsls(),\n",
    "                n_folds=10, n_rep=3)\n",
    "\n",
    "theta, vart, ci = dml_2sls.dml()\n",
    "\n",
    "print(theta)\n",
    "print(np.mean(theta, axis=0))\n",
    "print(vart)\n",
    "print(ci)\n"
   ]
  },
  {
   "cell_type": "code",
   "execution_count": null,
   "metadata": {},
   "outputs": [],
   "source": []
  }
 ],
 "metadata": {
  "kernelspec": {
   "display_name": "Python 3",
   "language": "python",
   "name": "python3"
  },
  "language_info": {
   "codemirror_mode": {
    "name": "ipython",
    "version": 3
   },
   "file_extension": ".py",
   "mimetype": "text/x-python",
   "name": "python",
   "nbconvert_exporter": "python",
   "pygments_lexer": "ipython3",
   "version": "3.9.13"
  },
  "orig_nbformat": 4
 },
 "nbformat": 4,
 "nbformat_minor": 2
}
