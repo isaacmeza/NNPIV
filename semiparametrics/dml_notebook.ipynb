{
 "cells": [
  {
   "cell_type": "code",
   "execution_count": 1,
   "metadata": {},
   "outputs": [],
   "source": [
    "import os\n",
    "import matplotlib.pyplot as plt\n",
    "import numpy as np\n",
    "from sklearn.linear_model import Lasso, LassoCV, LogisticRegression, LogisticRegressionCV, LinearRegression,\\\n",
    "    ElasticNet, ElasticNetCV, MultiTaskElasticNet, MultiTaskElasticNetCV\n",
    "from sklearn.ensemble import RandomForestRegressor, RandomForestClassifier\n",
    "from sklearn.preprocessing import PolynomialFeatures\n",
    "from sklearn.model_selection import train_test_split\n",
    "import mliv.dgps_mediated as dgps\n",
    "from mliv.ensemble import EnsembleIV, EnsembleIVStar\n",
    "from mliv.rkhs import ApproxRKHSIVCV\n",
    "from mliv.shape import LipschitzShapeIV, ShapeIV\n",
    "from mliv.linear import OptimisticHedgeVsOptimisticHedge, StochasticOptimisticHedgeVsOptimisticHedge\n",
    "from mliv.linear import L2OptimisticHedgeVsOGD, L2ProxGradient\n",
    "from sklearn.pipeline import Pipeline\n",
    "\n",
    "from pathlib import Path\n",
    "import numpy as np\n",
    "import torch\n",
    "import torch.nn as nn\n",
    "from sklearn.cluster import KMeans\n",
    "#from mliv.neuralnet.deepiv_fit import deep_iv_fit\n",
    "from mliv.neuralnet.rbflayer import gaussian, inverse_multiquadric\n",
    "from mliv.neuralnet import AGMM, KernelLayerMMDGMM, CentroidMMDGMM, KernelLossAGMM, MMDGMM\n",
    "from mliv.tsls import tsls, regtsls\n",
    "\n",
    "p = 0.1  # dropout prob of dropout layers throughout notebook\n",
    "n_hidden = 100  # width of hidden layers throughout notebook\n",
    "\n",
    "# For any method that use a projection of z into features g(z)\n",
    "g_features = 100\n",
    "\n",
    "# The kernel function\n",
    "kernel_fn = gaussian\n",
    "# kernel_fn = inverse_multiquadric\n",
    "\n",
    "# Training params\n",
    "learner_lr = 1e-4\n",
    "adversary_lr = 1e-4\n",
    "learner_l2 = 1e-3\n",
    "adversary_l2 = 1e-4\n",
    "adversary_norm_reg = 1e-3\n",
    "n_epochs = 300\n",
    "bs = 100\n",
    "sigma = 2.0 / g_features\n",
    "n_centers = 100\n",
    "device = torch.cuda.current_device() if torch.cuda.is_available() else None\n"
   ]
  },
  {
   "cell_type": "code",
   "execution_count": 2,
   "metadata": {},
   "outputs": [],
   "source": [
    "from dml_mediated import DML_mediated"
   ]
  },
  {
   "cell_type": "code",
   "execution_count": 3,
   "metadata": {},
   "outputs": [
    {
     "name": "stdout",
     "output_type": "stream",
     "text": [
      "(2000, 4)\n"
     ]
    }
   ],
   "source": [
    "fn_number = 0\n",
    "tau_fn = dgps.get_tau_fn(fn_number)\n",
    "tauinv_fn = dgps.get_tauinv_fn(fn_number)\n",
    "W, Z, X, M, D, Y, tau_fn = dgps.get_data(2000, tau_fn)\n",
    "\n",
    "V = np.random.rand(Y.shape[0])\n",
    "V = V.reshape(-1, 1)\n",
    "\n",
    "print(np.column_stack((W,X,Z)).shape)\n",
    "ind = np.where(D==0)[0]\n",
    "W0 = W[ind]\n",
    "X0 = X[ind,:]\n",
    "W0_test = np.zeros((1000, 1+X.shape[1]))\n",
    "W0_test += np.median(np.column_stack((X0,W0)), axis=0, keepdims=True)\n",
    "W0_test[:, 2] = np.linspace(np.percentile(\n",
    "            W0[:, 0], 5), np.percentile(W0[:, 0], 95), 1000)\n",
    "\n",
    "# True parameters\n",
    "b_yd = 2.0; b_ym = 1.0; b_yx = np.array([[-1.0],[-1.0]]); b_yu = -1.0; b_yw = 2.0; b_y0 = 2.0\n",
    "b_wx = np.array([[0.2],[0.2]]); b_wu = -0.6; b_w0 = 0.3\n",
    "b_md = -0.3; b_mx = np.array([[-0.5],[-0.5]]); b_mu = 0.4; b_m0 = 0.0\n",
    "    \n",
    "gamma_1w = (b_yw*b_wu + b_yu)/b_wu\n",
    "gamma_1x = b_yw*b_wx + b_yx - gamma_1w*b_wx\n",
    "gamma_1m = b_ym\n",
    "gamma_10 = b_y0 + b_yd + b_yw*b_w0 - gamma_1w*b_w0\n",
    "\n",
    "gamma_0w = (gamma_1m*b_mu + gamma_1w*b_wu)/b_wu\n",
    "gamma_0x = gamma_1m*b_mx + gamma_1w*b_wx + gamma_1x - gamma_0w*b_wx\n",
    "gamma_00 = gamma_10 + gamma_1m*b_m0 + gamma_1w*b_w0 - gamma_0w*b_w0\n",
    "\n",
    "    # True nuisance function\n",
    "expected_te = gamma_00 + tauinv_fn(W0_test)@np.row_stack((gamma_0x, gamma_0w))\n"
   ]
  },
  {
   "cell_type": "code",
   "execution_count": 4,
   "metadata": {},
   "outputs": [],
   "source": [
    "rkhs_model = ApproxRKHSIVCV(kernel_approx='nystrom', n_components=100,\n",
    "                           kernel='rbf', gamma=.1, delta_scale='auto',\n",
    "                           delta_exp=.4, alpha_scales=np.geomspace(1, 10000, 10), cv=5)\n",
    "\n",
    "def _get_learner(n_t):\n",
    "    return nn.Sequential(nn.Dropout(p=p), nn.Linear(n_t, n_hidden), nn.LeakyReLU(),\n",
    "                         nn.Dropout(p=p), nn.Linear(n_hidden, 1))\n",
    "\n",
    "\n",
    "def _get_adversary(n_z):\n",
    "    return nn.Sequential(nn.Dropout(p=p), nn.Linear(n_z, n_hidden), nn.LeakyReLU(),\n",
    "                         nn.Dropout(p=p), nn.Linear(n_hidden, 1))\n",
    "\n",
    "\n",
    "def _get_adversary_g(n_z):\n",
    "    return nn.Sequential(nn.Dropout(p=p), nn.Linear(n_z, n_hidden), nn.LeakyReLU(),\n",
    "                         nn.Dropout(p=p), nn.Linear(n_hidden, g_features), nn.ReLU())\n",
    "\n",
    "\n",
    "agmm_1 = AGMM(_get_learner(4),_get_adversary(4))\n",
    "agmm_2 = AGMM(_get_learner(3),_get_adversary(3))"
   ]
  },
  {
   "cell_type": "code",
   "execution_count": 5,
   "metadata": {},
   "outputs": [],
   "source": [
    "dml_rkhs = DML_mediated(Y, D, M, W, Z, X,\n",
    "                        model1 = rkhs_model,\n",
    "                        model2 = rkhs_model,\n",
    "                        modelq1 = rkhs_model,\n",
    "                        modelq2 = rkhs_model,\n",
    "                n_folds=5, n_rep=3)\n",
    "\n",
    "dml_agmm = DML_mediated(Y, D, M, W, Z, X,\n",
    "                        model1 = agmm_1,\n",
    "                        model2 = agmm_2,\n",
    "                        modelq1 = agmm_2,\n",
    "                        modelq2 = agmm_1,\n",
    "                        n_folds=5, n_rep=1,\n",
    "                        CHIM = False,\n",
    "                        nn_1 = True,\n",
    "                        nn_2 = True,\n",
    "                        nn_q1 = True,\n",
    "                        nn_q2 = True,\n",
    "                        fitargs1 = {'n_epochs': 300, 'bs': 100, 'learner_lr': 1e-4, 'adversary_lr': 1e-4, 'learner_l2': 1e-3, 'adversary_l2': 1e-4, 'adversary_norm_reg' : 1e-3},\n",
    "                        fitargs2 = {'n_epochs': 300, 'bs': 100, 'learner_lr': 1e-4, 'adversary_lr': 1e-4, 'learner_l2': 1e-3, 'adversary_l2': 1e-4},\n",
    "                        fitargsq1 = {'n_epochs': 300, 'bs': 100, 'learner_lr': 1e-4, 'adversary_lr': 1e-4, 'learner_l2': 1e-3, 'adversary_l2': 1e-4},\n",
    "                        fitargsq2 = {'n_epochs': 300, 'bs': 100, 'learner_lr': 1e-4, 'adversary_lr': 1e-4, 'learner_l2': 1e-3, 'adversary_l2': 1e-4},\n",
    "                        opts = {'lin_degree': 1, 'burnin': 200})\n",
    "\n",
    "dml_2sls = DML_mediated(Y, D, M, W, Z, X,\n",
    "                        model1 = tsls(),\n",
    "                        model2 = tsls(),\n",
    "                        modelq1 = tsls(),\n",
    "                        modelq2 = tsls(),\n",
    "                n_folds=10, n_rep=3)\n",
    "\n",
    "dml_2sls_chim = DML_mediated(Y, D, M, W, Z, X,\n",
    "                        model1 = tsls(),\n",
    "                        model2 = tsls(),\n",
    "                        modelq1 = tsls(),\n",
    "                        modelq2 = tsls(),\n",
    "                        CHIM=True,\n",
    "                n_folds=10, n_rep=3)\n",
    "\n",
    "\n",
    "dml_rfiv = DML_mediated(Y, D, M, W, Z, X,\n",
    "                        model1 = EnsembleIV(n_iter=200, max_abs_value=2),\n",
    "                        model2 = EnsembleIV(n_iter=200, max_abs_value=2),\n",
    "                        modelq1 = EnsembleIV(n_iter=200, max_abs_value=2),\n",
    "                        modelq2 = EnsembleIV(n_iter=200, max_abs_value=2),\n",
    "                n_folds=5, n_rep=1)    \n"
   ]
  },
  {
   "cell_type": "code",
   "execution_count": 6,
   "metadata": {},
   "outputs": [],
   "source": [
    "dml_rkhs_or = DML_mediated(Y, D, M, W, Z, X,\n",
    "                        model1 = rkhs_model,\n",
    "                        model2 = rkhs_model,\n",
    "                        modelq1 = rkhs_model,\n",
    "                        modelq2 = rkhs_model,\n",
    "                n_folds=5, n_rep=3, estimator='OR')\n",
    "\n",
    "dml_rkhs_ipw = DML_mediated(Y, D, M, W, Z, X,\n",
    "                        model1 = rkhs_model,\n",
    "                        model2 = rkhs_model,\n",
    "                        modelq1 = rkhs_model,\n",
    "                        modelq2 = rkhs_model,\n",
    "                n_folds=5, n_rep=3, estimator='IPW')\n",
    "\n",
    "dml_rkhs_hybrid = DML_mediated(Y, D, M, W, Z, X,\n",
    "                        model1 = rkhs_model,\n",
    "                        model2 = rkhs_model,\n",
    "                        modelq1 = rkhs_model,\n",
    "                        modelq2 = rkhs_model,\n",
    "                n_folds=5, n_rep=3, estimator='hybrid')\n"
   ]
  },
  {
   "cell_type": "code",
   "execution_count": 7,
   "metadata": {},
   "outputs": [
    {
     "name": "stdout",
     "output_type": "stream",
     "text": [
      "Rep: 1\n"
     ]
    },
    {
     "name": "stderr",
     "output_type": "stream",
     "text": [
      "100%|██████████| 5/5 [00:03<00:00,  1.63it/s]\n"
     ]
    },
    {
     "name": "stdout",
     "output_type": "stream",
     "text": [
      "Rep: 2\n"
     ]
    },
    {
     "name": "stderr",
     "output_type": "stream",
     "text": [
      "100%|██████████| 5/5 [00:02<00:00,  2.42it/s]\n"
     ]
    },
    {
     "name": "stdout",
     "output_type": "stream",
     "text": [
      "Rep: 3\n"
     ]
    },
    {
     "name": "stderr",
     "output_type": "stream",
     "text": [
      "100%|██████████| 5/5 [00:01<00:00,  2.62it/s]"
     ]
    },
    {
     "name": "stdout",
     "output_type": "stream",
     "text": [
      "(4.0289792035963075, 28.773719177546585, array([3.79389086, 4.26406755]))\n"
     ]
    },
    {
     "name": "stderr",
     "output_type": "stream",
     "text": [
      "\n"
     ]
    }
   ],
   "source": [
    "print(dml_rkhs.dml())"
   ]
  },
  {
   "cell_type": "code",
   "execution_count": 8,
   "metadata": {},
   "outputs": [
    {
     "name": "stdout",
     "output_type": "stream",
     "text": [
      "Rep: 1\n"
     ]
    },
    {
     "name": "stderr",
     "output_type": "stream",
     "text": [
      "100%|██████████| 5/5 [00:00<00:00,  5.25it/s]\n"
     ]
    },
    {
     "name": "stdout",
     "output_type": "stream",
     "text": [
      "Rep: 2\n"
     ]
    },
    {
     "name": "stderr",
     "output_type": "stream",
     "text": [
      "100%|██████████| 5/5 [00:01<00:00,  4.86it/s]\n"
     ]
    },
    {
     "name": "stdout",
     "output_type": "stream",
     "text": [
      "Rep: 3\n"
     ]
    },
    {
     "name": "stderr",
     "output_type": "stream",
     "text": [
      "100%|██████████| 5/5 [00:00<00:00,  5.75it/s]"
     ]
    },
    {
     "name": "stdout",
     "output_type": "stream",
     "text": [
      "(4.022787495428855, 12.11270644927077, array([3.87025805, 4.17531694]))\n"
     ]
    },
    {
     "name": "stderr",
     "output_type": "stream",
     "text": [
      "\n"
     ]
    }
   ],
   "source": [
    "print(dml_rkhs_or.dml())"
   ]
  },
  {
   "cell_type": "code",
   "execution_count": 9,
   "metadata": {},
   "outputs": [
    {
     "name": "stdout",
     "output_type": "stream",
     "text": [
      "Rep: 1\n"
     ]
    },
    {
     "name": "stderr",
     "output_type": "stream",
     "text": [
      "100%|██████████| 5/5 [00:01<00:00,  4.23it/s]\n"
     ]
    },
    {
     "name": "stdout",
     "output_type": "stream",
     "text": [
      "Rep: 2\n"
     ]
    },
    {
     "name": "stderr",
     "output_type": "stream",
     "text": [
      "100%|██████████| 5/5 [00:00<00:00,  5.85it/s]\n"
     ]
    },
    {
     "name": "stdout",
     "output_type": "stream",
     "text": [
      "Rep: 3\n"
     ]
    },
    {
     "name": "stderr",
     "output_type": "stream",
     "text": [
      "100%|██████████| 5/5 [00:00<00:00,  5.94it/s]"
     ]
    },
    {
     "name": "stdout",
     "output_type": "stream",
     "text": [
      "(3.955186439844408, 52.45312666433774, array([3.63777777, 4.27259511]))\n"
     ]
    },
    {
     "name": "stderr",
     "output_type": "stream",
     "text": [
      "\n"
     ]
    }
   ],
   "source": [
    "print(dml_rkhs_ipw.dml())"
   ]
  },
  {
   "cell_type": "code",
   "execution_count": 10,
   "metadata": {},
   "outputs": [
    {
     "name": "stdout",
     "output_type": "stream",
     "text": [
      "Rep: 1\n"
     ]
    },
    {
     "name": "stderr",
     "output_type": "stream",
     "text": [
      "100%|██████████| 5/5 [00:00<00:00,  5.60it/s]\n"
     ]
    },
    {
     "name": "stdout",
     "output_type": "stream",
     "text": [
      "Rep: 2\n"
     ]
    },
    {
     "name": "stderr",
     "output_type": "stream",
     "text": [
      "100%|██████████| 5/5 [00:00<00:00,  5.89it/s]\n"
     ]
    },
    {
     "name": "stdout",
     "output_type": "stream",
     "text": [
      "Rep: 3\n"
     ]
    },
    {
     "name": "stderr",
     "output_type": "stream",
     "text": [
      "100%|██████████| 5/5 [00:01<00:00,  5.00it/s]"
     ]
    },
    {
     "name": "stdout",
     "output_type": "stream",
     "text": [
      "(4.0018029405902915, 56.70245582416896, array([3.67178768, 4.3318182 ]))\n"
     ]
    },
    {
     "name": "stderr",
     "output_type": "stream",
     "text": [
      "\n"
     ]
    }
   ],
   "source": [
    "print(dml_rkhs_hybrid.dml())"
   ]
  },
  {
   "cell_type": "code",
   "execution_count": 11,
   "metadata": {},
   "outputs": [
    {
     "name": "stdout",
     "output_type": "stream",
     "text": [
      "Rep: 1\n"
     ]
    },
    {
     "name": "stderr",
     "output_type": "stream",
     "text": [
      "100%|██████████| 10/10 [00:00<00:00, 67.04it/s]\n"
     ]
    },
    {
     "name": "stdout",
     "output_type": "stream",
     "text": [
      "Rep: 2\n"
     ]
    },
    {
     "name": "stderr",
     "output_type": "stream",
     "text": [
      "100%|██████████| 10/10 [00:00<00:00, 66.52it/s]\n"
     ]
    },
    {
     "name": "stdout",
     "output_type": "stream",
     "text": [
      "Rep: 3\n"
     ]
    },
    {
     "name": "stderr",
     "output_type": "stream",
     "text": [
      "100%|██████████| 10/10 [00:00<00:00, 71.17it/s]\n"
     ]
    },
    {
     "name": "stdout",
     "output_type": "stream",
     "text": [
      "(4.047376120067359, 27.141995035226127, array([3.81905085, 4.27570139]))\n",
      "Rep: 1\n"
     ]
    },
    {
     "name": "stderr",
     "output_type": "stream",
     "text": [
      "100%|██████████| 10/10 [00:00<00:00, 40.71it/s]\n"
     ]
    },
    {
     "name": "stdout",
     "output_type": "stream",
     "text": [
      "Rep: 2\n"
     ]
    },
    {
     "name": "stderr",
     "output_type": "stream",
     "text": [
      "100%|██████████| 10/10 [00:00<00:00, 42.91it/s]\n"
     ]
    },
    {
     "name": "stdout",
     "output_type": "stream",
     "text": [
      "Rep: 3\n"
     ]
    },
    {
     "name": "stderr",
     "output_type": "stream",
     "text": [
      "100%|██████████| 10/10 [00:00<00:00, 41.18it/s]"
     ]
    },
    {
     "name": "stdout",
     "output_type": "stream",
     "text": [
      "(4.047361082250958, 27.14060258932391, array([3.81904167, 4.27568049]))\n"
     ]
    },
    {
     "name": "stderr",
     "output_type": "stream",
     "text": [
      "\n"
     ]
    }
   ],
   "source": [
    "print(dml_2sls.dml())\n",
    "print(dml_2sls_chim.dml())"
   ]
  },
  {
   "cell_type": "code",
   "execution_count": 12,
   "metadata": {},
   "outputs": [],
   "source": [
    "_ , gamma_0 = dml_2sls._nnpivfit_outcome(Y=Y, D=D, M=M, W=W, X=X, Z=Z)\n",
    "gamma0_hat = gamma_0.predict(W0_test)\n"
   ]
  },
  {
   "cell_type": "code",
   "execution_count": 13,
   "metadata": {},
   "outputs": [
    {
     "data": {
      "text/plain": [
       "<matplotlib.legend.Legend at 0x1bc06abbdf0>"
      ]
     },
     "execution_count": 13,
     "metadata": {},
     "output_type": "execute_result"
    },
    {
     "data": {
      "image/png": "[encoded data removed]",
      "text/plain": [
       "<Figure size 640x480 with 1 Axes>"
      ]
     },
     "metadata": {},
     "output_type": "display_data"
    }
   ],
   "source": [
    "\n",
    "plt.show()\n",
    "plt.plot(gamma0_hat)\n",
    "plt.plot(expected_te)\n",
    "plt.legend(['rkhs', 'true'])"
   ]
  },
  {
   "cell_type": "code",
   "execution_count": 14,
   "metadata": {},
   "outputs": [
    {
     "name": "stdout",
     "output_type": "stream",
     "text": [
      "4.040254423457863\n"
     ]
    }
   ],
   "source": [
    "\n",
    "print(np.mean(gamma_0.predict(np.column_stack((X, W)))))\n",
    "#In principle this should be the same as the 'OR' estimator\n"
   ]
  },
  {
   "cell_type": "code",
   "execution_count": 15,
   "metadata": {},
   "outputs": [
    {
     "name": "stdout",
     "output_type": "stream",
     "text": [
      "Rep: 1\n"
     ]
    },
    {
     "name": "stderr",
     "output_type": "stream",
     "text": [
      "100%|██████████| 10/10 [00:00<00:00, 66.33it/s]\n"
     ]
    },
    {
     "name": "stdout",
     "output_type": "stream",
     "text": [
      "Rep: 2\n"
     ]
    },
    {
     "name": "stderr",
     "output_type": "stream",
     "text": [
      "100%|██████████| 10/10 [00:00<00:00, 73.45it/s]\n"
     ]
    },
    {
     "name": "stdout",
     "output_type": "stream",
     "text": [
      "Rep: 3\n"
     ]
    },
    {
     "name": "stderr",
     "output_type": "stream",
     "text": [
      "100%|██████████| 10/10 [00:00<00:00, 79.90it/s]\n"
     ]
    },
    {
     "data": {
      "text/plain": [
       "(4.047376120067359, 27.141995035226127, array([3.81905085, 4.27570139]))"
      ]
     },
     "execution_count": 15,
     "metadata": {},
     "output_type": "execute_result"
    }
   ],
   "source": [
    "dml_2sls.dml()"
   ]
  },
  {
   "cell_type": "code",
   "execution_count": 16,
   "metadata": {},
   "outputs": [
    {
     "name": "stdout",
     "output_type": "stream",
     "text": [
      "Rep: 1\n"
     ]
    },
    {
     "name": "stderr",
     "output_type": "stream",
     "text": [
      "100%|██████████| 10/10 [00:02<00:00,  4.43it/s]\n"
     ]
    },
    {
     "name": "stdout",
     "output_type": "stream",
     "text": [
      "Rep: 2\n"
     ]
    },
    {
     "name": "stderr",
     "output_type": "stream",
     "text": [
      "100%|██████████| 10/10 [00:02<00:00,  4.47it/s]\n"
     ]
    },
    {
     "name": "stdout",
     "output_type": "stream",
     "text": [
      "Rep: 3\n"
     ]
    },
    {
     "name": "stderr",
     "output_type": "stream",
     "text": [
      "100%|██████████| 10/10 [00:02<00:00,  4.58it/s]\n"
     ]
    },
    {
     "data": {
      "text/plain": [
       "(4.046824973908222, 26.644646590513187, array([3.82060129, 4.27304866]))"
      ]
     },
     "execution_count": 16,
     "metadata": {},
     "output_type": "execute_result"
    }
   ],
   "source": [
    "dml_reg2sls = DML_mediated(Y, D, M, W, Z, X,\n",
    "                           estimator='MR',\n",
    "                        model1 = regtsls(),\n",
    "                        model2 = regtsls(),\n",
    "                        modelq1 = regtsls(),\n",
    "                        modelq2 = regtsls(),\n",
    "                n_folds=10, n_rep=3)     \n",
    "\n",
    "\n",
    "dml_reg2sls.dml()"
   ]
  },
  {
   "cell_type": "code",
   "execution_count": 17,
   "metadata": {},
   "outputs": [
    {
     "name": "stdout",
     "output_type": "stream",
     "text": [
      "Rep: 1\n"
     ]
    },
    {
     "name": "stderr",
     "output_type": "stream",
     "text": [
      "100%|██████████| 10/10 [00:00<00:00, 20.69it/s]\n"
     ]
    },
    {
     "name": "stdout",
     "output_type": "stream",
     "text": [
      "Rep: 2\n"
     ]
    },
    {
     "name": "stderr",
     "output_type": "stream",
     "text": [
      "100%|██████████| 10/10 [00:00<00:00, 20.99it/s]\n"
     ]
    },
    {
     "name": "stdout",
     "output_type": "stream",
     "text": [
      "Rep: 3\n"
     ]
    },
    {
     "name": "stderr",
     "output_type": "stream",
     "text": [
      "100%|██████████| 10/10 [00:00<00:00, 21.37it/s]"
     ]
    },
    {
     "name": "stdout",
     "output_type": "stream",
     "text": [
      "[3.59570586 3.70753439 3.9430394  4.11602209 4.12782642 4.09841558\n",
      " 4.14478774 4.20512329 4.20992929 4.13053864 4.01019152 3.9380058\n",
      " 3.94872085 4.00686156 4.1107328  4.19255661 4.19815624 4.18594161\n",
      " 4.19915086]\n",
      "4.056275818520639\n",
      "[213.34519207 174.21294411 166.7217622  180.47702628 171.3785261\n",
      " 151.04551267 152.1040084  159.49146151 159.52543026 153.66435424\n",
      " 157.92823485 174.67156715 183.86548909 178.06517848 171.85683124\n",
      " 182.07318883 186.40432817 194.9256151  240.99324117]\n",
      "[[2.95556652 4.23584521]\n",
      " [3.12907443 4.28599435]\n",
      " [3.37715302 4.50892577]\n",
      " [3.52725428 4.7047899 ]\n",
      " [3.55409148 4.70156135]\n",
      " [3.55978996 4.6370412 ]\n",
      " [3.60427813 4.68529735]\n",
      " [3.65164344 4.75860314]\n",
      " [3.65639051 4.76346808]\n",
      " [3.58726372 4.67381357]\n",
      " [3.45943077 4.56095227]\n",
      " [3.35878493 4.51722667]\n",
      " [3.35445167 4.54299002]\n",
      " [3.42204105 4.59168207]\n",
      " [3.53619779 4.6852678 ]\n",
      " [3.60119096 4.78392226]\n",
      " [3.59979825 4.79651422]\n",
      " [3.57405979 4.79782343]\n",
      " [3.51879595 4.87950577]]\n"
     ]
    },
    {
     "name": "stderr",
     "output_type": "stream",
     "text": [
      "\n"
     ]
    }
   ],
   "source": [
    "percentiles = np.arange(5, 100, 5)\n",
    "v_values = np.percentile(V, percentiles)\n",
    "\n",
    "dml_2sls = DML_mediated(Y, D, M, W, Z, X, V=V,\n",
    "                        v_values=v_values,\n",
    "                        loc_kernel = 'gau',\n",
    "                        bw_loc = 'scott',\n",
    "                        model1 = tsls(),\n",
    "                        model2 = tsls(),\n",
    "                        modelq1 = tsls(),\n",
    "                        modelq2 = tsls(),\n",
    "                n_folds=10, n_rep=3)\n",
    "\n",
    "theta, vart, ci = dml_2sls.dml()\n",
    "\n",
    "print(theta)\n",
    "print(np.mean(theta, axis=0))\n",
    "print(vart)\n",
    "print(ci)\n"
   ]
  },
  {
   "cell_type": "code",
   "execution_count": null,
   "metadata": {},
   "outputs": [],
   "source": []
  }
 ],
 "metadata": {
  "kernelspec": {
   "display_name": "Python 3",
   "language": "python",
   "name": "python3"
  },
  "language_info": {
   "codemirror_mode": {
    "name": "ipython",
    "version": 3
   },
   "file_extension": ".py",
   "mimetype": "text/x-python",
   "name": "python",
   "nbconvert_exporter": "python",
   "pygments_lexer": "ipython3",
   "version": "3.9.13"
  },
  "orig_nbformat": 4
 },
 "nbformat": 4,
 "nbformat_minor": 2
}
