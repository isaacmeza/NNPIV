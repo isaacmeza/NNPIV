{
 "cells": [
  {
   "cell_type": "code",
   "execution_count": 1,
   "metadata": {},
   "outputs": [],
   "source": [
    "import os\n",
    "import matplotlib.pyplot as plt\n",
    "import numpy as np\n",
    "from sklearn.linear_model import Lasso, LassoCV, LogisticRegression, LogisticRegressionCV, LinearRegression,\\\n",
    "    ElasticNet, ElasticNetCV, MultiTaskElasticNet, MultiTaskElasticNetCV\n",
    "from sklearn.ensemble import RandomForestRegressor, RandomForestClassifier\n",
    "from sklearn.preprocessing import PolynomialFeatures\n",
    "from sklearn.model_selection import train_test_split\n",
    "import mliv.dgps_mediated as dgps\n",
    "from mliv.rkhs import ApproxRKHSIVCV, RKHSIVCV\n",
    "from sklearn.pipeline import Pipeline\n",
    "\n",
    "from pathlib import Path\n",
    "import numpy as np\n",
    "#from mliv.neuralnet.deepiv_fit import deep_iv_fit\n",
    "from mliv.tsls import tsls, regtsls\n",
    "import pandas as pd\n",
    "import seaborn as sns\n",
    "import matplotlib.pyplot as plt\n",
    "\n"
   ]
  },
  {
   "cell_type": "code",
   "execution_count": 2,
   "metadata": {},
   "outputs": [],
   "source": [
    "from dml_longterm import DML_longterm\n",
    "from dml_npiv import DML_npiv"
   ]
  },
  {
   "cell_type": "code",
   "execution_count": null,
   "metadata": {},
   "outputs": [],
   "source": [
    "\n",
    "# Read the CSV file into a DataFrame\n",
    "df = pd.read_csv('../data/data_star.csv', header=0)\n"
   ]
  },
  {
   "cell_type": "code",
   "execution_count": 4,
   "metadata": {},
   "outputs": [],
   "source": [
    "\n",
    "#Generate variable of ones\n",
    "df['ones'] = 1\n",
    "\n",
    "# Bind covariates\n",
    "X = df[[\"age\"]].values\n",
    "G = df[[\"G\"]].values\n",
    "D = df[[\"D\"]].values\n",
    "S = df[[\"z_score3\"]].values\n",
    "Y = df[[\"z_score8\"]].values\n",
    "V = df[[\"age\"]].values\n",
    "\n",
    "ones = df[[\"ones\"]].values\n"
   ]
  },
  {
   "cell_type": "code",
   "execution_count": 5,
   "metadata": {},
   "outputs": [
    {
     "data": {
      "text/plain": [
       "['z_score3', 'z_score4', 'z_score5', 'z_score6', 'z_score7', 'z_score8']"
      ]
     },
     "execution_count": 5,
     "metadata": {},
     "output_type": "execute_result"
    }
   ],
   "source": [
    "# Create an empty DataFrame to store results\n",
    "results_table = pd.DataFrame(columns=['Y_value', 'Coefficient Surrogacy', 'Variance Surrogacy','Coefficient Latent', 'Variance Latent', \n",
    "                                      'Coefficient Oracle', 'Variance Oracle'])\n",
    "results_list = []\n",
    "\n",
    "# List of different Y values to loop through\n",
    "outcome_lst = [f\"z_score{g}\" for g in range(3, 9)]\n",
    "outcome_lst"
   ]
  },
  {
   "cell_type": "code",
   "execution_count": 6,
   "metadata": {},
   "outputs": [
    {
     "name": "stdout",
     "output_type": "stream",
     "text": [
      "Rep: 1\n"
     ]
    },
    {
     "name": "stderr",
     "output_type": "stream",
     "text": [
      "100%|██████████| 5/5 [00:00<00:00, 17.75it/s]\n"
     ]
    },
    {
     "name": "stdout",
     "output_type": "stream",
     "text": [
      "Rep: 2\n"
     ]
    },
    {
     "name": "stderr",
     "output_type": "stream",
     "text": [
      "100%|██████████| 5/5 [00:00<00:00, 31.10it/s]\n"
     ]
    },
    {
     "name": "stdout",
     "output_type": "stream",
     "text": [
      "Rep: 1\n"
     ]
    },
    {
     "name": "stderr",
     "output_type": "stream",
     "text": [
      "100%|██████████| 5/5 [00:00<00:00, 28.45it/s]\n"
     ]
    },
    {
     "name": "stdout",
     "output_type": "stream",
     "text": [
      "Rep: 2\n"
     ]
    },
    {
     "name": "stderr",
     "output_type": "stream",
     "text": [
      "100%|██████████| 5/5 [00:00<00:00, 34.89it/s]\n"
     ]
    },
    {
     "name": "stdout",
     "output_type": "stream",
     "text": [
      "Rep: 1\n"
     ]
    },
    {
     "name": "stderr",
     "output_type": "stream",
     "text": [
      "100%|██████████| 10/10 [00:00<00:00, 66.70it/s]\n"
     ]
    },
    {
     "name": "stdout",
     "output_type": "stream",
     "text": [
      "Rep: 2\n"
     ]
    },
    {
     "name": "stderr",
     "output_type": "stream",
     "text": [
      "100%|██████████| 10/10 [00:00<00:00, 60.56it/s]\n"
     ]
    },
    {
     "name": "stdout",
     "output_type": "stream",
     "text": [
      "Rep: 1\n"
     ]
    },
    {
     "name": "stderr",
     "output_type": "stream",
     "text": [
      "100%|██████████| 5/5 [00:00<00:00, 27.86it/s]\n"
     ]
    },
    {
     "name": "stdout",
     "output_type": "stream",
     "text": [
      "Rep: 2\n"
     ]
    },
    {
     "name": "stderr",
     "output_type": "stream",
     "text": [
      "100%|██████████| 5/5 [00:00<00:00, 30.82it/s]\n"
     ]
    },
    {
     "name": "stdout",
     "output_type": "stream",
     "text": [
      "Rep: 1\n"
     ]
    },
    {
     "name": "stderr",
     "output_type": "stream",
     "text": [
      "100%|██████████| 5/5 [00:00<00:00, 32.07it/s]\n"
     ]
    },
    {
     "name": "stdout",
     "output_type": "stream",
     "text": [
      "Rep: 2\n"
     ]
    },
    {
     "name": "stderr",
     "output_type": "stream",
     "text": [
      "100%|██████████| 5/5 [00:00<00:00, 29.71it/s]\n"
     ]
    },
    {
     "name": "stdout",
     "output_type": "stream",
     "text": [
      "Rep: 1\n"
     ]
    },
    {
     "name": "stderr",
     "output_type": "stream",
     "text": [
      "100%|██████████| 10/10 [00:00<00:00, 67.34it/s]\n"
     ]
    },
    {
     "name": "stdout",
     "output_type": "stream",
     "text": [
      "Rep: 2\n"
     ]
    },
    {
     "name": "stderr",
     "output_type": "stream",
     "text": [
      "100%|██████████| 10/10 [00:00<00:00, 67.19it/s]\n"
     ]
    },
    {
     "name": "stdout",
     "output_type": "stream",
     "text": [
      "Rep: 1\n"
     ]
    },
    {
     "name": "stderr",
     "output_type": "stream",
     "text": [
      "100%|██████████| 5/5 [00:00<00:00, 34.25it/s]\n"
     ]
    },
    {
     "name": "stdout",
     "output_type": "stream",
     "text": [
      "Rep: 2\n"
     ]
    },
    {
     "name": "stderr",
     "output_type": "stream",
     "text": [
      "100%|██████████| 5/5 [00:00<00:00, 28.49it/s]\n"
     ]
    },
    {
     "name": "stdout",
     "output_type": "stream",
     "text": [
      "Rep: 1\n"
     ]
    },
    {
     "name": "stderr",
     "output_type": "stream",
     "text": [
      "100%|██████████| 5/5 [00:00<00:00, 30.31it/s]\n"
     ]
    },
    {
     "name": "stdout",
     "output_type": "stream",
     "text": [
      "Rep: 2\n"
     ]
    },
    {
     "name": "stderr",
     "output_type": "stream",
     "text": [
      "100%|██████████| 5/5 [00:00<00:00, 35.35it/s]\n"
     ]
    },
    {
     "name": "stdout",
     "output_type": "stream",
     "text": [
      "Rep: 1\n"
     ]
    },
    {
     "name": "stderr",
     "output_type": "stream",
     "text": [
      "100%|██████████| 10/10 [00:00<00:00, 71.12it/s]\n"
     ]
    },
    {
     "name": "stdout",
     "output_type": "stream",
     "text": [
      "Rep: 2\n"
     ]
    },
    {
     "name": "stderr",
     "output_type": "stream",
     "text": [
      "100%|██████████| 10/10 [00:00<00:00, 66.90it/s]\n"
     ]
    },
    {
     "name": "stdout",
     "output_type": "stream",
     "text": [
      "Rep: 1\n"
     ]
    },
    {
     "name": "stderr",
     "output_type": "stream",
     "text": [
      "100%|██████████| 5/5 [00:00<00:00, 31.62it/s]\n"
     ]
    },
    {
     "name": "stdout",
     "output_type": "stream",
     "text": [
      "Rep: 2\n"
     ]
    },
    {
     "name": "stderr",
     "output_type": "stream",
     "text": [
      "100%|██████████| 5/5 [00:00<00:00, 32.76it/s]\n"
     ]
    },
    {
     "name": "stdout",
     "output_type": "stream",
     "text": [
      "Rep: 1\n"
     ]
    },
    {
     "name": "stderr",
     "output_type": "stream",
     "text": [
      "100%|██████████| 5/5 [00:00<00:00, 39.94it/s]\n"
     ]
    },
    {
     "name": "stdout",
     "output_type": "stream",
     "text": [
      "Rep: 2\n"
     ]
    },
    {
     "name": "stderr",
     "output_type": "stream",
     "text": [
      "100%|██████████| 5/5 [00:00<00:00, 34.59it/s]\n"
     ]
    },
    {
     "name": "stdout",
     "output_type": "stream",
     "text": [
      "Rep: 1\n"
     ]
    },
    {
     "name": "stderr",
     "output_type": "stream",
     "text": [
      "100%|██████████| 10/10 [00:00<00:00, 67.17it/s]\n"
     ]
    },
    {
     "name": "stdout",
     "output_type": "stream",
     "text": [
      "Rep: 2\n"
     ]
    },
    {
     "name": "stderr",
     "output_type": "stream",
     "text": [
      "100%|██████████| 10/10 [00:00<00:00, 66.43it/s]\n"
     ]
    },
    {
     "name": "stdout",
     "output_type": "stream",
     "text": [
      "Rep: 1\n"
     ]
    },
    {
     "name": "stderr",
     "output_type": "stream",
     "text": [
      "100%|██████████| 5/5 [00:00<00:00, 33.30it/s]\n"
     ]
    },
    {
     "name": "stdout",
     "output_type": "stream",
     "text": [
      "Rep: 2\n"
     ]
    },
    {
     "name": "stderr",
     "output_type": "stream",
     "text": [
      "100%|██████████| 5/5 [00:00<00:00, 34.41it/s]\n"
     ]
    },
    {
     "name": "stdout",
     "output_type": "stream",
     "text": [
      "Rep: 1\n"
     ]
    },
    {
     "name": "stderr",
     "output_type": "stream",
     "text": [
      "100%|██████████| 5/5 [00:00<00:00, 35.14it/s]\n"
     ]
    },
    {
     "name": "stdout",
     "output_type": "stream",
     "text": [
      "Rep: 2\n"
     ]
    },
    {
     "name": "stderr",
     "output_type": "stream",
     "text": [
      "100%|██████████| 5/5 [00:00<00:00, 33.37it/s]\n"
     ]
    },
    {
     "name": "stdout",
     "output_type": "stream",
     "text": [
      "Rep: 1\n"
     ]
    },
    {
     "name": "stderr",
     "output_type": "stream",
     "text": [
      "100%|██████████| 10/10 [00:00<00:00, 74.45it/s]\n"
     ]
    },
    {
     "name": "stdout",
     "output_type": "stream",
     "text": [
      "Rep: 2\n"
     ]
    },
    {
     "name": "stderr",
     "output_type": "stream",
     "text": [
      "100%|██████████| 10/10 [00:00<00:00, 66.92it/s]\n"
     ]
    },
    {
     "name": "stdout",
     "output_type": "stream",
     "text": [
      "Rep: 1\n"
     ]
    },
    {
     "name": "stderr",
     "output_type": "stream",
     "text": [
      "100%|██████████| 5/5 [00:00<00:00, 32.55it/s]\n"
     ]
    },
    {
     "name": "stdout",
     "output_type": "stream",
     "text": [
      "Rep: 2\n"
     ]
    },
    {
     "name": "stderr",
     "output_type": "stream",
     "text": [
      "100%|██████████| 5/5 [00:00<00:00, 33.57it/s]\n"
     ]
    },
    {
     "name": "stdout",
     "output_type": "stream",
     "text": [
      "Rep: 1\n"
     ]
    },
    {
     "name": "stderr",
     "output_type": "stream",
     "text": [
      "100%|██████████| 5/5 [00:00<00:00, 37.15it/s]\n"
     ]
    },
    {
     "name": "stdout",
     "output_type": "stream",
     "text": [
      "Rep: 2\n"
     ]
    },
    {
     "name": "stderr",
     "output_type": "stream",
     "text": [
      "100%|██████████| 5/5 [00:00<00:00, 33.24it/s]\n"
     ]
    },
    {
     "name": "stdout",
     "output_type": "stream",
     "text": [
      "Rep: 1\n"
     ]
    },
    {
     "name": "stderr",
     "output_type": "stream",
     "text": [
      "100%|██████████| 10/10 [00:00<00:00, 72.84it/s]\n"
     ]
    },
    {
     "name": "stdout",
     "output_type": "stream",
     "text": [
      "Rep: 2\n"
     ]
    },
    {
     "name": "stderr",
     "output_type": "stream",
     "text": [
      "100%|██████████| 10/10 [00:00<00:00, 67.03it/s]"
     ]
    },
    {
     "name": "stdout",
     "output_type": "stream",
     "text": [
      "    Y_value  Coefficient Latent  Variance Latent  Coefficient Surrogacy  \\\n",
      "0  z_score3            0.199593        15.943917               0.199593   \n",
      "1  z_score4            0.113696        10.949494               0.146189   \n",
      "2  z_score5            0.124335         9.639560               0.133247   \n",
      "3  z_score6            0.118818         9.140539               0.123363   \n",
      "4  z_score7            0.079391         8.583207               0.118425   \n",
      "5  z_score8            0.074785         8.044311               0.109896   \n",
      "\n",
      "   Variance Surrogacy  Coefficient Oracle  Variance Oracle  \n",
      "0           15.943917            0.198788         4.793154  \n",
      "1            8.307349            0.107861         4.882616  \n",
      "2            6.881830            0.093215         4.903875  \n",
      "3            5.954231            0.103113         4.824513  \n",
      "4            5.312434            0.093466         4.836055  \n",
      "5            4.550621            0.083507         4.794609  \n"
     ]
    },
    {
     "name": "stderr",
     "output_type": "stream",
     "text": [
      "\n"
     ]
    }
   ],
   "source": [
    "\n",
    "\n",
    "for Y_value in outcome_lst:\n",
    "    # Compute DML using different Y values\n",
    "    Y = df[[Y_value]].values\n",
    "\n",
    "    dml_lt = DML_longterm(Y, D, S, G,\n",
    "                        longterm_model='latent_unconfounded',\n",
    "                        model1 = tsls(),\n",
    "                        model2 = tsls(),\n",
    "                n_folds=5, n_rep=2, CHIM = False, prop_score=LogisticRegression(max_iter=2000))\n",
    "    \n",
    "    # Fit the model and compute coefficient and variance\n",
    "    coefficient_latent, variance_latent,_ = dml_lt.dml()\n",
    " \n",
    "    dml_lt = DML_longterm(Y, D, S, G,\n",
    "                        longterm_model='surrogacy',\n",
    "                        model1 = tsls(),\n",
    "                        model2 = tsls(),\n",
    "                n_folds=5, n_rep=2, CHIM = False, prop_score=LogisticRegression(max_iter=2000))\n",
    "    coefficient_surr, variance_surr,_ = dml_lt.dml()\n",
    "\n",
    "    ind = np.where(G == 0)[0]\n",
    "    Y1 = Y[ind]\n",
    "    D1 = D[ind]\n",
    "    ones1 = ones[ind]\n",
    "\n",
    "    dml_npiv = DML_npiv(Y1, D1, ones1, ones1,\n",
    "                            estimator='MR',\n",
    "                            model1 = tsls(),\n",
    "                            modelq1= tsls(),\n",
    "                    n_folds=10, n_rep=2, CHIM = False, prop_score=LogisticRegression(max_iter=2000))\n",
    "\n",
    "    coefficient_oracle, variance_oracle, _ = dml_npiv.dml()\n",
    "\n",
    "    result_df = pd.DataFrame({'Y_value': [Y_value],\n",
    "                              'Coefficient Latent': [coefficient_latent],\n",
    "                              'Variance Latent': [variance_latent],\n",
    "                              'Coefficient Surrogacy': [coefficient_surr],\n",
    "                              'Variance Surrogacy': [variance_surr],\n",
    "                              'Coefficient Oracle': [coefficient_oracle],\n",
    "                              'Variance Oracle': [variance_oracle]})\n",
    "    \n",
    "    # Append the DataFrame to the list\n",
    "    results_list.append(result_df)\n",
    "\n",
    "# Concatenate all DataFrames in the list into a single DataFrame\n",
    "results_table = pd.concat(results_list, ignore_index=True)\n",
    "\n",
    "# Display or save the results table\n",
    "print(results_table)\n"
   ]
  },
  {
   "cell_type": "code",
   "execution_count": 7,
   "metadata": {},
   "outputs": [],
   "source": [
    "results_table.to_csv('longterm_star.csv', index=False) "
   ]
  },
  {
   "cell_type": "code",
   "execution_count": 8,
   "metadata": {},
   "outputs": [
    {
     "data": {
      "image/png": "[encoded data removed]",
      "text/plain": [
       "<Figure size 700x300 with 1 Axes>"
      ]
     },
     "metadata": {},
     "output_type": "display_data"
    }
   ],
   "source": [
    "\n",
    "\n",
    "plt.figure(figsize=(7, 3))\n",
    "sns.set_style(\"white\")\n",
    "sns.set_palette(\"Set2\")\n",
    "n = G.shape[0]\n",
    "\n",
    "plt.errorbar(\n",
    "    np.array(range(3, 9)) -0.1,\n",
    "    results_table['Coefficient Oracle'],\n",
    "    yerr=1.96 * np.sqrt(results_table['Variance Oracle']) * np.sqrt(1 / n) ,\n",
    "    capthick=1.5,\n",
    "    capsize=5,\n",
    "    fmt='x',\n",
    "    label=\"Oracle: STAR (D, Y)\",\n",
    ")\n",
    "plt.errorbar(\n",
    "    np.array(range(3, 9)) ,\n",
    "    results_table['Coefficient Latent'],\n",
    "    yerr=1.96 * np.sqrt(results_table['Variance Latent']) * np.sqrt(1 / n) ,\n",
    "    capthick=1.5,\n",
    "    capsize=5,\n",
    "    fmt='.',\n",
    "    label=\"Proposal: STAR (D, M) + NYC (D, M, Y)\",\n",
    ")\n",
    "plt.errorbar(\n",
    "    np.array(range(3, 9)) + 0.1,\n",
    "    results_table['Coefficient Surrogacy'],\n",
    "    yerr=1.96 * np.sqrt(results_table['Variance Surrogacy']) * np.sqrt(1 / n) ,\n",
    "    capthick=1.5,\n",
    "    capsize=5,\n",
    "    fmt='^',\n",
    "    label=\"Proposal: STAR (D, M) + NYC (M, Y)\",\n",
    ")\n",
    "\n",
    "\n",
    "\n",
    "plt.axhline(y=0, color='black', linestyle='--', linewidth=1)  # Adjust line properties as needed\n",
    "\n",
    "sns.despine()\n",
    "\n",
    "plt.ylabel(f\"Long term effect\")\n",
    "plt.xlabel(\"Long term horizon\")\n",
    "plt.legend(frameon=False, loc=(.5, .91))\n",
    "plt.savefig('plot_longterm_star.png', dpi=600, bbox_inches='tight')  # Adjust options as needed\n"
   ]
  },
  {
   "cell_type": "code",
   "execution_count": 52,
   "metadata": {},
   "outputs": [],
   "source": [
    "df = pd.read_csv('../data/data_star.csv', header=0)\n",
    "\n",
    "# Bind covariates\n",
    "Xnan = df[[\"z_score_prior\"]].values\n",
    "X = df[[\"z_score_prior\"]].values\n",
    "G = df[[\"G\"]].values\n",
    "D = df[[\"D\"]].values\n",
    "S = df[[\"z_score3\"]].values\n",
    "V = df[[\"z_score_prior\"]].values\n",
    "Y = df[[\"z_score8\"]].values\n",
    "\n",
    "\n",
    "#drop NaNs\n",
    "X = X[~np.isnan(Xnan)].reshape(-1,1)\n",
    "G = G[~np.isnan(Xnan)].reshape(-1,1)\n",
    "D = D[~np.isnan(Xnan)].reshape(-1,1)\n",
    "S = S[~np.isnan(Xnan)].reshape(-1,1)\n",
    "Y = Y[~np.isnan(Xnan)].reshape(-1,1)\n",
    "V = V[~np.isnan(Xnan)].reshape(-1,1)\n",
    "\n",
    "ones = np.ones((X.shape[0], 1))\n",
    " "
   ]
  },
  {
   "cell_type": "code",
   "execution_count": 53,
   "metadata": {},
   "outputs": [],
   "source": [
    "m1 = ApproxRKHSIVCV(kernel_approx='nystrom', n_components=200,\n",
    "                                   kernel='rbf', gamma=.1, delta_scale='auto',\n",
    "                                   delta_exp=.4, alpha_scales=np.geomspace(1, 10000, 10), cv=10)\n",
    "\n",
    "m2 = ApproxRKHSIVCV(kernel_approx='nystrom', n_components=200,\n",
    "                                   kernel='rbf', gamma=.1, delta_scale='auto',\n",
    "                                   delta_exp=.4, alpha_scales=np.geomspace(1, 10000, 10), cv=10)\n",
    "\n",
    "m1 = tsls()\n",
    "m2 = tsls()"
   ]
  },
  {
   "cell_type": "code",
   "execution_count": 54,
   "metadata": {},
   "outputs": [
    {
     "name": "stdout",
     "output_type": "stream",
     "text": [
      "Rep: 1\n"
     ]
    },
    {
     "name": "stderr",
     "output_type": "stream",
     "text": [
      "100%|██████████| 10/10 [00:00<00:00, 32.95it/s]\n"
     ]
    },
    {
     "name": "stdout",
     "output_type": "stream",
     "text": [
      "Rep: 1\n"
     ]
    },
    {
     "name": "stderr",
     "output_type": "stream",
     "text": [
      "100%|██████████| 10/10 [00:00<00:00, 43.84it/s]\n"
     ]
    },
    {
     "name": "stdout",
     "output_type": "stream",
     "text": [
      "Rep: 1\n"
     ]
    },
    {
     "name": "stderr",
     "output_type": "stream",
     "text": [
      "100%|██████████| 10/10 [00:00<00:00, 55.36it/s]\n"
     ]
    },
    {
     "name": "stdout",
     "output_type": "stream",
     "text": [
      "Rep: 1\n"
     ]
    },
    {
     "name": "stderr",
     "output_type": "stream",
     "text": [
      "100%|██████████| 10/10 [00:00<00:00, 33.56it/s]\n"
     ]
    },
    {
     "name": "stdout",
     "output_type": "stream",
     "text": [
      "Rep: 1\n"
     ]
    },
    {
     "name": "stderr",
     "output_type": "stream",
     "text": [
      "100%|██████████| 10/10 [00:00<00:00, 42.40it/s]\n"
     ]
    },
    {
     "name": "stdout",
     "output_type": "stream",
     "text": [
      "Rep: 1\n"
     ]
    },
    {
     "name": "stderr",
     "output_type": "stream",
     "text": [
      "100%|██████████| 10/10 [00:00<00:00, 71.86it/s]\n"
     ]
    },
    {
     "name": "stdout",
     "output_type": "stream",
     "text": [
      "Rep: 1\n"
     ]
    },
    {
     "name": "stderr",
     "output_type": "stream",
     "text": [
      "100%|██████████| 10/10 [00:00<00:00, 31.12it/s]\n"
     ]
    },
    {
     "name": "stdout",
     "output_type": "stream",
     "text": [
      "Rep: 1\n"
     ]
    },
    {
     "name": "stderr",
     "output_type": "stream",
     "text": [
      "100%|██████████| 10/10 [00:00<00:00, 42.47it/s]\n"
     ]
    },
    {
     "name": "stdout",
     "output_type": "stream",
     "text": [
      "Rep: 1\n"
     ]
    },
    {
     "name": "stderr",
     "output_type": "stream",
     "text": [
      "100%|██████████| 10/10 [00:00<00:00, 71.36it/s]\n"
     ]
    },
    {
     "name": "stdout",
     "output_type": "stream",
     "text": [
      "Rep: 1\n"
     ]
    },
    {
     "name": "stderr",
     "output_type": "stream",
     "text": [
      "100%|██████████| 10/10 [00:00<00:00, 34.92it/s]\n"
     ]
    },
    {
     "name": "stdout",
     "output_type": "stream",
     "text": [
      "Rep: 1\n"
     ]
    },
    {
     "name": "stderr",
     "output_type": "stream",
     "text": [
      "100%|██████████| 10/10 [00:00<00:00, 40.32it/s]\n"
     ]
    },
    {
     "name": "stdout",
     "output_type": "stream",
     "text": [
      "Rep: 1\n"
     ]
    },
    {
     "name": "stderr",
     "output_type": "stream",
     "text": [
      "100%|██████████| 10/10 [00:00<00:00, 75.32it/s]\n"
     ]
    },
    {
     "name": "stdout",
     "output_type": "stream",
     "text": [
      "Rep: 1\n"
     ]
    },
    {
     "name": "stderr",
     "output_type": "stream",
     "text": [
      "100%|██████████| 10/10 [00:00<00:00, 38.37it/s]\n"
     ]
    },
    {
     "name": "stdout",
     "output_type": "stream",
     "text": [
      "Rep: 1\n"
     ]
    },
    {
     "name": "stderr",
     "output_type": "stream",
     "text": [
      "100%|██████████| 10/10 [00:00<00:00, 46.25it/s]\n"
     ]
    },
    {
     "name": "stdout",
     "output_type": "stream",
     "text": [
      "Rep: 1\n"
     ]
    },
    {
     "name": "stderr",
     "output_type": "stream",
     "text": [
      "100%|██████████| 10/10 [00:00<00:00, 70.76it/s]\n"
     ]
    },
    {
     "name": "stdout",
     "output_type": "stream",
     "text": [
      "Rep: 1\n"
     ]
    },
    {
     "name": "stderr",
     "output_type": "stream",
     "text": [
      "100%|██████████| 10/10 [00:00<00:00, 30.78it/s]\n"
     ]
    },
    {
     "name": "stdout",
     "output_type": "stream",
     "text": [
      "Rep: 1\n"
     ]
    },
    {
     "name": "stderr",
     "output_type": "stream",
     "text": [
      "100%|██████████| 10/10 [00:00<00:00, 44.05it/s]\n"
     ]
    },
    {
     "name": "stdout",
     "output_type": "stream",
     "text": [
      "Rep: 1\n"
     ]
    },
    {
     "name": "stderr",
     "output_type": "stream",
     "text": [
      "100%|██████████| 10/10 [00:00<00:00, 67.08it/s]\n"
     ]
    }
   ],
   "source": [
    "# Create an empty DataFrame to store results\n",
    "results_table = pd.DataFrame(columns=['Y_value', 'Coefficient Surrogacy', 'Variance Surrogacy','Coefficient Latent', 'Variance Latent', \n",
    "                                      'Coefficient Oracle', 'Variance Oracle'])\n",
    "results_list = []\n",
    "\n",
    "# List of different Y values to loop through\n",
    "outcome_lst = [f\"z_score{g}\" for g in range(3, 9)]\n",
    "\n",
    "\n",
    "for Y_value in outcome_lst:\n",
    "    # Compute DML using different Y values\n",
    "    Y = df[[Y_value]].values\n",
    "    Y = Y[~np.isnan(Xnan)].reshape(-1,1)\n",
    "    \n",
    "    dml_lt = DML_longterm(Y, D, S, G, \n",
    "                        longterm_model='latent_unconfounded',\n",
    "                        model1 = m1,\n",
    "                        model2 = m2,\n",
    "                n_folds=10, n_rep=1, CHIM = False, prop_score=LogisticRegression(max_iter=2000), opts = {'lin_degree': 1})\n",
    "    \n",
    "    # Fit the model and compute coefficient and variance\n",
    "    coefficient_latent, variance_latent,_ = dml_lt.dml()\n",
    " \n",
    "    dml_lt = DML_longterm(Y, D, S, G, \n",
    "                        longterm_model='surrogacy',\n",
    "                        model1 = m1,\n",
    "                        model2 = m2,\n",
    "                n_folds=10, n_rep=1, CHIM = False, prop_score=LogisticRegression(max_iter=2000), opts = {'lin_degree': 1})\n",
    "    coefficient_surr, variance_surr,_ = dml_lt.dml()\n",
    "\n",
    "    ind = np.where(G == 0)[0]\n",
    "    Y1 = Y[ind]\n",
    "    D1 = D[ind]\n",
    "    X11 = X[ind]\n",
    "    ones1 = ones[ind]\n",
    "\n",
    "    dml_npiv = DML_npiv(Y1, D1, ones1, ones1,\n",
    "                            estimator='MR',\n",
    "                            model1 = m1,\n",
    "                            modelq1= m2,\n",
    "                    n_folds=10, n_rep=1, CHIM = False, prop_score=LogisticRegression(max_iter=2000), opts = {'lin_degree': 1})\n",
    "\n",
    "    coefficient_oracle, variance_oracle, _ = dml_npiv.dml()\n",
    "\n",
    "    result_df = pd.DataFrame({'Y_value': [Y_value],\n",
    "                              'Coefficient Latent': [coefficient_latent],\n",
    "                              'Variance Latent': [variance_latent],\n",
    "                              'Coefficient Surrogacy': [coefficient_surr],\n",
    "                              'Variance Surrogacy': [variance_surr],\n",
    "                              'Coefficient Oracle': [coefficient_oracle],\n",
    "                              'Variance Oracle': [variance_oracle]})\n",
    "    \n",
    "    # Append the DataFrame to the list\n",
    "    results_list.append(result_df)\n",
    "\n",
    "# Concatenate all DataFrames in the list into a single DataFrame\n",
    "results_table = pd.concat(results_list, ignore_index=True)\n",
    "results_table.to_csv('longterm_star_cate_sample.csv', index=False) \n",
    "\n"
   ]
  },
  {
   "cell_type": "code",
   "execution_count": 55,
   "metadata": {},
   "outputs": [
    {
     "data": {
      "image/png": "[encoded data removed]",
      "text/plain": [
       "<Figure size 700x300 with 1 Axes>"
      ]
     },
     "metadata": {},
     "output_type": "display_data"
    }
   ],
   "source": [
    "\n",
    "plt.figure(figsize=(7, 3))\n",
    "sns.set_style(\"white\")\n",
    "sns.set_palette(\"Set2\")\n",
    "n = G.shape[0]\n",
    "\n",
    "plt.errorbar(\n",
    "    np.array(range(3, 9)) -0.1,\n",
    "    results_table['Coefficient Oracle'],\n",
    "    yerr=1.96 * np.sqrt(results_table['Variance Oracle']) * np.sqrt(1 / n) ,\n",
    "    capthick=1.5,\n",
    "    capsize=5,\n",
    "    fmt='x',\n",
    "    label=\"Oracle: STAR (D, Y)\",\n",
    ")\n",
    "plt.errorbar(\n",
    "    np.array(range(3, 9)) ,\n",
    "    results_table['Coefficient Latent'],\n",
    "    yerr=1.96 * np.sqrt(results_table['Variance Latent']) * np.sqrt(1 / n) ,\n",
    "    capthick=1.5,\n",
    "    capsize=5,\n",
    "    fmt='.',\n",
    "    label=\"Proposal: STAR (D, M) + NYC (D, M, Y)\",\n",
    ")\n",
    "plt.errorbar(\n",
    "    np.array(range(3, 9)) + 0.1,\n",
    "    results_table['Coefficient Surrogacy'],\n",
    "    yerr=1.96 * np.sqrt(results_table['Variance Surrogacy']) * np.sqrt(1 / n) ,\n",
    "    capthick=1.5,\n",
    "    capsize=5,\n",
    "    fmt='^',\n",
    "    label=\"Proposal: STAR (D, M) + NYC (M, Y)\",\n",
    ")\n",
    "\n",
    "\n",
    "\n",
    "plt.axhline(y=0, color='black', linestyle='--', linewidth=1)  # Adjust line properties as needed\n",
    "\n",
    "sns.despine()\n",
    "\n",
    "plt.ylabel(f\"Long term effect\")\n",
    "plt.xlabel(\"Long term horizon\")\n",
    "plt.legend(frameon=False, loc=(.5, .91))\n",
    "plt.savefig('plot_longterm_star_cate_sample.png', dpi=600, bbox_inches='tight')  # Adjust options as needed\n"
   ]
  },
  {
   "cell_type": "code",
   "execution_count": 65,
   "metadata": {},
   "outputs": [
    {
     "name": "stdout",
     "output_type": "stream",
     "text": [
      "Rep: 1\n"
     ]
    },
    {
     "name": "stderr",
     "output_type": "stream",
     "text": [
      "100%|██████████| 10/10 [00:00<00:00, 46.81it/s]\n"
     ]
    },
    {
     "name": "stdout",
     "output_type": "stream",
     "text": [
      "Rep: 1\n"
     ]
    },
    {
     "name": "stderr",
     "output_type": "stream",
     "text": [
      "100%|██████████| 10/10 [00:00<00:00, 65.64it/s]\n"
     ]
    },
    {
     "name": "stdout",
     "output_type": "stream",
     "text": [
      "Rep: 1\n"
     ]
    },
    {
     "name": "stderr",
     "output_type": "stream",
     "text": [
      "100%|██████████| 10/10 [00:00<00:00, 70.79it/s]\n"
     ]
    },
    {
     "name": "stdout",
     "output_type": "stream",
     "text": [
      "Rep: 1\n"
     ]
    },
    {
     "name": "stderr",
     "output_type": "stream",
     "text": [
      "100%|██████████| 10/10 [00:00<00:00, 55.64it/s]\n"
     ]
    },
    {
     "name": "stdout",
     "output_type": "stream",
     "text": [
      "Rep: 1\n"
     ]
    },
    {
     "name": "stderr",
     "output_type": "stream",
     "text": [
      "100%|██████████| 10/10 [00:00<00:00, 63.87it/s]\n"
     ]
    },
    {
     "name": "stdout",
     "output_type": "stream",
     "text": [
      "Rep: 1\n"
     ]
    },
    {
     "name": "stderr",
     "output_type": "stream",
     "text": [
      "100%|██████████| 10/10 [00:00<00:00, 69.96it/s]\n"
     ]
    },
    {
     "name": "stdout",
     "output_type": "stream",
     "text": [
      "Rep: 1\n"
     ]
    },
    {
     "name": "stderr",
     "output_type": "stream",
     "text": [
      "100%|██████████| 10/10 [00:00<00:00, 63.45it/s]\n"
     ]
    },
    {
     "name": "stdout",
     "output_type": "stream",
     "text": [
      "Rep: 1\n"
     ]
    },
    {
     "name": "stderr",
     "output_type": "stream",
     "text": [
      "100%|██████████| 10/10 [00:00<00:00, 62.61it/s]\n"
     ]
    },
    {
     "name": "stdout",
     "output_type": "stream",
     "text": [
      "Rep: 1\n"
     ]
    },
    {
     "name": "stderr",
     "output_type": "stream",
     "text": [
      "100%|██████████| 10/10 [00:00<00:00, 69.12it/s]\n"
     ]
    },
    {
     "name": "stdout",
     "output_type": "stream",
     "text": [
      "Rep: 1\n"
     ]
    },
    {
     "name": "stderr",
     "output_type": "stream",
     "text": [
      "100%|██████████| 10/10 [00:00<00:00, 52.50it/s]\n"
     ]
    },
    {
     "name": "stdout",
     "output_type": "stream",
     "text": [
      "Rep: 1\n"
     ]
    },
    {
     "name": "stderr",
     "output_type": "stream",
     "text": [
      "100%|██████████| 10/10 [00:00<00:00, 65.33it/s]\n"
     ]
    },
    {
     "name": "stdout",
     "output_type": "stream",
     "text": [
      "Rep: 1\n"
     ]
    },
    {
     "name": "stderr",
     "output_type": "stream",
     "text": [
      "100%|██████████| 10/10 [00:00<00:00, 58.23it/s]\n"
     ]
    },
    {
     "name": "stdout",
     "output_type": "stream",
     "text": [
      "Rep: 1\n"
     ]
    },
    {
     "name": "stderr",
     "output_type": "stream",
     "text": [
      "100%|██████████| 10/10 [00:00<00:00, 57.83it/s]\n"
     ]
    },
    {
     "name": "stdout",
     "output_type": "stream",
     "text": [
      "Rep: 1\n"
     ]
    },
    {
     "name": "stderr",
     "output_type": "stream",
     "text": [
      "100%|██████████| 10/10 [00:00<00:00, 68.64it/s]\n"
     ]
    },
    {
     "name": "stdout",
     "output_type": "stream",
     "text": [
      "Rep: 1\n"
     ]
    },
    {
     "name": "stderr",
     "output_type": "stream",
     "text": [
      "100%|██████████| 10/10 [00:00<00:00, 76.50it/s]\n"
     ]
    },
    {
     "name": "stdout",
     "output_type": "stream",
     "text": [
      "Rep: 1\n"
     ]
    },
    {
     "name": "stderr",
     "output_type": "stream",
     "text": [
      "100%|██████████| 10/10 [00:00<00:00, 59.11it/s]\n"
     ]
    },
    {
     "name": "stdout",
     "output_type": "stream",
     "text": [
      "Rep: 1\n"
     ]
    },
    {
     "name": "stderr",
     "output_type": "stream",
     "text": [
      "100%|██████████| 10/10 [00:00<00:00, 59.43it/s]\n"
     ]
    },
    {
     "name": "stdout",
     "output_type": "stream",
     "text": [
      "Rep: 1\n"
     ]
    },
    {
     "name": "stderr",
     "output_type": "stream",
     "text": [
      "100%|██████████| 10/10 [00:00<00:00, 75.12it/s]\n"
     ]
    }
   ],
   "source": [
    "# Create an empty DataFrame to store results\n",
    "results_table = pd.DataFrame(columns=['Y_value', 'Coefficient Surrogacy', 'Variance Surrogacy','Coefficient Latent', 'Variance Latent', \n",
    "                                      'Coefficient Oracle', 'Variance Oracle'])\n",
    "results_list = []\n",
    "\n",
    "# List of different Y values to loop through\n",
    "outcome_lst = [f\"z_score{g}\" for g in range(3, 9)]\n",
    "\n",
    "\n",
    "for Y_value in outcome_lst:\n",
    "    # Compute DML using different Y values\n",
    "    Y = df[[Y_value]].values\n",
    "    Y = Y[~np.isnan(Xnan)].reshape(-1,1)\n",
    "    \n",
    "    dml_lt = DML_longterm(Y, D, S, G, X1=X,\n",
    "                        estimator='MR',\n",
    "                        longterm_model='latent_unconfounded',\n",
    "                        model1 = m1,\n",
    "                        model2 = m2,\n",
    "                n_folds=10, n_rep=1, CHIM = False, prop_score=LogisticRegression(max_iter=2000), opts = {'lin_degree': 1})\n",
    "    \n",
    "    # Fit the model and compute coefficient and variance\n",
    "    coefficient_latent, variance_latent,_ = dml_lt.dml()\n",
    " \n",
    "    dml_lt = DML_longterm(Y, D, S, G, X1=X,\n",
    "                        estimator='MR',\n",
    "                        longterm_model='surrogacy',\n",
    "                        model1 = m1,\n",
    "                        model2 = m2,\n",
    "                n_folds=10, n_rep=1, CHIM = False, prop_score=LogisticRegression(max_iter=2000), opts = {'lin_degree': 1})\n",
    "    coefficient_surr, variance_surr,_ = dml_lt.dml()\n",
    "\n",
    "    ind = np.where(G == 0)[0]\n",
    "    Y1 = Y[ind]\n",
    "    D1 = D[ind]\n",
    "    X11 = X[ind]\n",
    "    ones1 = ones[ind]\n",
    "\n",
    "    dml_npiv = DML_npiv(Y1, D1, ones1, ones1, X1=X11,\n",
    "                            estimator='MR',\n",
    "                            model1 = m1,\n",
    "                            modelq1= m2,\n",
    "                    n_folds=10, n_rep=1, CHIM = False, prop_score=LogisticRegression(max_iter=2000), opts = {'lin_degree': 1})\n",
    "\n",
    "    coefficient_oracle, variance_oracle, _ = dml_npiv.dml()\n",
    "\n",
    "    result_df = pd.DataFrame({'Y_value': [Y_value],\n",
    "                              'Coefficient Latent': [coefficient_latent],\n",
    "                              'Variance Latent': [variance_latent],\n",
    "                              'Coefficient Surrogacy': [coefficient_surr],\n",
    "                              'Variance Surrogacy': [variance_surr],\n",
    "                              'Coefficient Oracle': [coefficient_oracle],\n",
    "                              'Variance Oracle': [variance_oracle]})\n",
    "    \n",
    "    # Append the DataFrame to the list\n",
    "    results_list.append(result_df)\n",
    "\n",
    "# Concatenate all DataFrames in the list into a single DataFrame\n",
    "results_table = pd.concat(results_list, ignore_index=True)\n",
    "results_table.to_csv('longterm_star_cate_sample_covs.csv', index=False) \n",
    "\n"
   ]
  },
  {
   "cell_type": "code",
   "execution_count": 66,
   "metadata": {},
   "outputs": [
    {
     "data": {
      "text/html": [
       "<div>\n",
       "<style scoped>\n",
       "    .dataframe tbody tr th:only-of-type {\n",
       "        vertical-align: middle;\n",
       "    }\n",
       "\n",
       "    .dataframe tbody tr th {\n",
       "        vertical-align: top;\n",
       "    }\n",
       "\n",
       "    .dataframe thead th {\n",
       "        text-align: right;\n",
       "    }\n",
       "</style>\n",
       "<table border=\"1\" class=\"dataframe\">\n",
       "  <thead>\n",
       "    <tr style=\"text-align: right;\">\n",
       "      <th></th>\n",
       "      <th>Y_value</th>\n",
       "      <th>Coefficient Latent</th>\n",
       "      <th>Variance Latent</th>\n",
       "      <th>Coefficient Surrogacy</th>\n",
       "      <th>Variance Surrogacy</th>\n",
       "      <th>Coefficient Oracle</th>\n",
       "      <th>Variance Oracle</th>\n",
       "    </tr>\n",
       "  </thead>\n",
       "  <tbody>\n",
       "    <tr>\n",
       "      <th>0</th>\n",
       "      <td>z_score3</td>\n",
       "      <td>0.016228</td>\n",
       "      <td>4.394460</td>\n",
       "      <td>0.016228</td>\n",
       "      <td>4.394460</td>\n",
       "      <td>0.034354</td>\n",
       "      <td>6.812412</td>\n",
       "    </tr>\n",
       "    <tr>\n",
       "      <th>1</th>\n",
       "      <td>z_score4</td>\n",
       "      <td>-0.063814</td>\n",
       "      <td>8.823527</td>\n",
       "      <td>0.008960</td>\n",
       "      <td>1.303019</td>\n",
       "      <td>-0.049882</td>\n",
       "      <td>6.994154</td>\n",
       "    </tr>\n",
       "    <tr>\n",
       "      <th>2</th>\n",
       "      <td>z_score5</td>\n",
       "      <td>-0.055249</td>\n",
       "      <td>8.472227</td>\n",
       "      <td>0.009028</td>\n",
       "      <td>1.514918</td>\n",
       "      <td>-0.052383</td>\n",
       "      <td>7.855707</td>\n",
       "    </tr>\n",
       "    <tr>\n",
       "      <th>3</th>\n",
       "      <td>z_score6</td>\n",
       "      <td>0.076142</td>\n",
       "      <td>12.828336</td>\n",
       "      <td>0.010435</td>\n",
       "      <td>1.188352</td>\n",
       "      <td>-0.029664</td>\n",
       "      <td>8.399744</td>\n",
       "    </tr>\n",
       "    <tr>\n",
       "      <th>4</th>\n",
       "      <td>z_score7</td>\n",
       "      <td>-0.012824</td>\n",
       "      <td>10.778848</td>\n",
       "      <td>0.007265</td>\n",
       "      <td>1.080606</td>\n",
       "      <td>-0.077353</td>\n",
       "      <td>5.335176</td>\n",
       "    </tr>\n",
       "    <tr>\n",
       "      <th>5</th>\n",
       "      <td>z_score8</td>\n",
       "      <td>0.068108</td>\n",
       "      <td>11.036004</td>\n",
       "      <td>0.009074</td>\n",
       "      <td>0.985909</td>\n",
       "      <td>-0.100075</td>\n",
       "      <td>5.637803</td>\n",
       "    </tr>\n",
       "  </tbody>\n",
       "</table>\n",
       "</div>"
      ],
      "text/plain": [
       "    Y_value  Coefficient Latent  Variance Latent  Coefficient Surrogacy  \\\n",
       "0  z_score3            0.016228         4.394460               0.016228   \n",
       "1  z_score4           -0.063814         8.823527               0.008960   \n",
       "2  z_score5           -0.055249         8.472227               0.009028   \n",
       "3  z_score6            0.076142        12.828336               0.010435   \n",
       "4  z_score7           -0.012824        10.778848               0.007265   \n",
       "5  z_score8            0.068108        11.036004               0.009074   \n",
       "\n",
       "   Variance Surrogacy  Coefficient Oracle  Variance Oracle  \n",
       "0            4.394460            0.034354         6.812412  \n",
       "1            1.303019           -0.049882         6.994154  \n",
       "2            1.514918           -0.052383         7.855707  \n",
       "3            1.188352           -0.029664         8.399744  \n",
       "4            1.080606           -0.077353         5.335176  \n",
       "5            0.985909           -0.100075         5.637803  "
      ]
     },
     "execution_count": 66,
     "metadata": {},
     "output_type": "execute_result"
    }
   ],
   "source": [
    "results_table"
   ]
  },
  {
   "cell_type": "code",
   "execution_count": 67,
   "metadata": {},
   "outputs": [
    {
     "data": {
      "image/png": "[encoded data removed]",
      "text/plain": [
       "<Figure size 700x300 with 1 Axes>"
      ]
     },
     "metadata": {},
     "output_type": "display_data"
    }
   ],
   "source": [
    "\n",
    "plt.figure(figsize=(7, 3))\n",
    "sns.set_style(\"white\")\n",
    "sns.set_palette(\"Set2\")\n",
    "n = G.shape[0]\n",
    "\n",
    "plt.errorbar(\n",
    "    np.array(range(3, 9)) -0.1,\n",
    "    results_table['Coefficient Oracle'],\n",
    "    yerr=1.96 * np.sqrt(results_table['Variance Oracle']) * np.sqrt(1 / n) ,\n",
    "    capthick=1.5,\n",
    "    capsize=5,\n",
    "    fmt='x',\n",
    "    label=\"Oracle: STAR (D, Y)\",\n",
    ")\n",
    "plt.errorbar(\n",
    "    np.array(range(3, 9)) ,\n",
    "    results_table['Coefficient Latent'],\n",
    "    yerr=1.96 * np.sqrt(results_table['Variance Latent']) * np.sqrt(1 / n) ,\n",
    "    capthick=1.5,\n",
    "    capsize=5,\n",
    "    fmt='.',\n",
    "    label=\"Proposal: STAR (D, M) + NYC (D, M, Y)\",\n",
    ")\n",
    "plt.errorbar(\n",
    "    np.array(range(3, 9)) + 0.1,\n",
    "    results_table['Coefficient Surrogacy'],\n",
    "    yerr=1.96 * np.sqrt(results_table['Variance Surrogacy']) * np.sqrt(1 / n) ,\n",
    "    capthick=1.5,\n",
    "    capsize=5,\n",
    "    fmt='^',\n",
    "    label=\"Proposal: STAR (D, M) + NYC (M, Y)\",\n",
    ")\n",
    "\n",
    "\n",
    "\n",
    "plt.axhline(y=0, color='black', linestyle='--', linewidth=1)  # Adjust line properties as needed\n",
    "\n",
    "sns.despine()\n",
    "\n",
    "plt.ylabel(f\"Long term effect\")\n",
    "plt.xlabel(\"Long term horizon\")\n",
    "plt.legend(frameon=False, loc=(.5, .91))\n",
    "plt.savefig('plot_longterm_star_cate_sample_covs.png', dpi=600, bbox_inches='tight')  # Adjust options as needed\n"
   ]
  },
  {
   "cell_type": "code",
   "execution_count": null,
   "metadata": {},
   "outputs": [],
   "source": []
  },
  {
   "cell_type": "code",
   "execution_count": 75,
   "metadata": {},
   "outputs": [],
   "source": [
    "df = pd.read_csv('data_star.csv', header=0)\n",
    "\n",
    "# Bind covariates\n",
    "Xnan = df[[\"z_score_prior\"]].values\n",
    "X = df[[\"z_score_prior\"]].values\n",
    "G = df[[\"G\"]].values\n",
    "D = df[[\"D\"]].values\n",
    "S = df[[\"z_score3\"]].values\n",
    "V = df[[\"z_score_prior\"]].values\n",
    "Y = df[[\"z_score5\"]].values\n",
    "\n",
    "\n",
    "#drop NaNs\n",
    "X = X[~np.isnan(Xnan)].reshape(-1,1)\n",
    "G = G[~np.isnan(Xnan)].reshape(-1,1)\n",
    "D = D[~np.isnan(Xnan)].reshape(-1,1)\n",
    "S = S[~np.isnan(Xnan)].reshape(-1,1)\n",
    "Y = Y[~np.isnan(Xnan)].reshape(-1,1)\n",
    "V = V[~np.isnan(Xnan)].reshape(-1,1)\n",
    "\n",
    "ones = np.ones((X.shape[0], 1))"
   ]
  },
  {
   "cell_type": "code",
   "execution_count": 76,
   "metadata": {},
   "outputs": [],
   "source": [
    "percentiles = np.arange(5, 100, 5)\n",
    "#Input the vector little v where wwe want to center local estimate theta\n",
    "v_values = np.percentile(V, percentiles)\n"
   ]
  },
  {
   "cell_type": "code",
   "execution_count": 77,
   "metadata": {},
   "outputs": [
    {
     "name": "stdout",
     "output_type": "stream",
     "text": [
      "Rep: 1\n"
     ]
    },
    {
     "name": "stderr",
     "output_type": "stream",
     "text": [
      "100%|██████████| 10/10 [00:00<00:00, 14.22it/s]\n"
     ]
    },
    {
     "data": {
      "text/plain": [
       "<matplotlib.lines.Line2D at 0x1f264fb7eb0>"
      ]
     },
     "execution_count": 77,
     "metadata": {},
     "output_type": "execute_result"
    },
    {
     "data": {
      "image/png": "[encoded data removed]",
      "text/plain": [
       "<Figure size 700x300 with 1 Axes>"
      ]
     },
     "metadata": {},
     "output_type": "display_data"
    }
   ],
   "source": [
    "\n",
    "dml_2sls = DML_longterm(Y, D, S, G, X1=None, V=X, v_values = v_values,\n",
    "                        estimator='MR',\n",
    "                        loc_kernel='gau',\n",
    "                        bw_loc='silverman',\n",
    "                        longterm_model='surrogacy',\n",
    "                        model1 = m1,\n",
    "                        model2 = m2,\n",
    "                n_folds=10, n_rep=1, CHIM = False, prop_score=LogisticRegression(max_iter=2000), opts = {'lin_degree': 1})\n",
    "\n",
    "theta, vart, ci = dml_2sls.dml()\n",
    "\n",
    "lower_ci = ci[:, 0]\n",
    "upper_ci = ci[:, 1]\n",
    "yerr = [theta - lower_ci, upper_ci - theta]\n",
    "\n",
    "plt.figure(figsize=(7, 3))\n",
    "plt.plot(theta)\n",
    "plt.axhline(np.mean(theta, axis=0), linewidth=1)  # Adjust line properties as needed\n",
    "plt.axhline(y=0, color='black', linestyle='--', linewidth=1)  # Adjust line properties as needed"
   ]
  },
  {
   "cell_type": "code",
   "execution_count": 78,
   "metadata": {},
   "outputs": [
    {
     "name": "stdout",
     "output_type": "stream",
     "text": [
      "Rep: 1\n"
     ]
    },
    {
     "name": "stderr",
     "output_type": "stream",
     "text": [
      "100%|██████████| 10/10 [00:00<00:00, 15.89it/s]\n"
     ]
    },
    {
     "data": {
      "text/plain": [
       "<matplotlib.lines.Line2D at 0x1f2650db9a0>"
      ]
     },
     "execution_count": 78,
     "metadata": {},
     "output_type": "execute_result"
    },
    {
     "data": {
      "image/png": "[encoded data removed]",
      "text/plain": [
       "<Figure size 700x300 with 1 Axes>"
      ]
     },
     "metadata": {},
     "output_type": "display_data"
    }
   ],
   "source": [
    "dml_2sls = DML_longterm(Y, D, S, G, X1=None, V=X, v_values = v_values,\n",
    "                        estimator='MR',\n",
    "                        loc_kernel='gau',\n",
    "                        bw_loc='silverman',\n",
    "                        longterm_model='latent_unconfounded',\n",
    "                        model1 = tsls(),\n",
    "                        model2 = tsls(),\n",
    "                n_folds=10, n_rep=1, prop_score=LogisticRegression(max_iter=2000))\n",
    "theta_l, vart_l, ci_l = dml_2sls.dml()\n",
    "\n",
    "lower_ci_l = ci_l[:, 0]\n",
    "upper_ci_l = ci_l[:, 1]\n",
    "yerr_l = [theta_l - lower_ci_l, upper_ci_l - theta_l]\n",
    "\n",
    "plt.figure(figsize=(7, 3))\n",
    "plt.plot(theta_l)\n",
    "plt.axhline(np.mean(theta_l, axis=0), linewidth=1)  # Adjust line properties as needed\n",
    "plt.axhline(y=0, color='black', linestyle='--', linewidth=1)  # Adjust line properties as needed"
   ]
  },
  {
   "cell_type": "code",
   "execution_count": 79,
   "metadata": {},
   "outputs": [
    {
     "name": "stdout",
     "output_type": "stream",
     "text": [
      "Rep: 1\n"
     ]
    },
    {
     "name": "stderr",
     "output_type": "stream",
     "text": [
      "100%|██████████| 10/10 [00:00<00:00, 17.84it/s]\n"
     ]
    },
    {
     "data": {
      "text/plain": [
       "<matplotlib.lines.Line2D at 0x1f26525b400>"
      ]
     },
     "execution_count": 79,
     "metadata": {},
     "output_type": "execute_result"
    },
    {
     "data": {
      "image/png": "[encoded data removed]",
      "text/plain": [
       "<Figure size 700x300 with 1 Axes>"
      ]
     },
     "metadata": {},
     "output_type": "display_data"
    }
   ],
   "source": [
    "ind = np.where(G == 0)[0]\n",
    "Y1 = Y[ind]\n",
    "D1 = D[ind]\n",
    "X11 = X[ind]\n",
    "ones1 = ones[ind]\n",
    "\n",
    "dml_npiv = DML_npiv(Y1, D1, ones1, ones1, V=X11, v_values = v_values,\n",
    "                        estimator='MR',\n",
    "                        loc_kernel='gau',\n",
    "                        bw_loc='silverman',\n",
    "                        model1 = m1,\n",
    "                        modelq1 = m2,\n",
    "                n_folds=10, n_rep=1, CHIM = False, prop_score=LogisticRegression(max_iter=2000), opts = {'lin_degree': 1})\n",
    "\n",
    "theta_oracle, vart_oracle, ci_oracle = dml_npiv.dml()\n",
    "\n",
    "lower_ci_oracle = ci_oracle[:, 0]\n",
    "upper_ci_oracle = ci_oracle[:, 1]\n",
    "yerr_oracle = [theta_oracle - lower_ci_oracle, upper_ci_oracle - theta_oracle]\n",
    "\n",
    "plt.figure(figsize=(7, 3))\n",
    "plt.plot(theta_oracle)\n",
    "plt.axhline(np.mean(theta_oracle, axis=0), linewidth=1)  # Adjust line properties as needed\n",
    "plt.axhline(y=0, color='black', linestyle='--', linewidth=1)  # Adjust line properties as needed"
   ]
  },
  {
   "cell_type": "code",
   "execution_count": 80,
   "metadata": {},
   "outputs": [
    {
     "data": {
      "image/png": "[encoded data removed]",
      "text/plain": [
       "<Figure size 700x300 with 1 Axes>"
      ]
     },
     "metadata": {},
     "output_type": "display_data"
    }
   ],
   "source": [
    "\n",
    "plt.figure(figsize=(7, 3))\n",
    "sns.set_style(\"white\")\n",
    "sns.set_palette(\"Set2\")\n",
    "\n",
    "# Generating the line plot with error bars (confidence intervals)\n",
    "plt.errorbar(percentiles, theta_oracle, yerr=yerr_oracle, marker='x', capsize=5, label='Oracle: STAR (D, Y)')\n",
    "plt.errorbar(percentiles, theta_l, yerr=yerr_l, marker='.', capsize=5, label='Proposal: STAR (D, M) + NYC (D, M, Y)')\n",
    "plt.errorbar(percentiles, theta, yerr=yerr, marker='^', capsize=5, label='Proposal: STAR (D, M) + NYC (M, Y)')\n",
    "plt.axhline(y=0, color='black', linestyle='--', linewidth=1)  # Adjust line properties as needed\n",
    "\n",
    "#set size of y-axis\n",
    "plt.ylim(-0.5, 0.75)\n",
    "#set x-axis limits\n",
    "\n",
    "\n",
    "plt.xlabel('Prior ability')\n",
    "plt.ylabel('Long term effect')\n",
    "plt.legend(frameon=False)\n",
    "\n",
    "plt.tight_layout()\n",
    "sns.despine()\n",
    "\n",
    "# Setting x-axis ticks every 10 units\n",
    "plt.xticks(np.arange(0, 101, 10))\n",
    "plt.savefig('plot_longterm_cate.png', dpi=600, bbox_inches='tight')  # Adjust options as needed\n"
   ]
  },
  {
   "cell_type": "code",
   "execution_count": 81,
   "metadata": {},
   "outputs": [],
   "source": [
    "results_longterm_cate = pd.DataFrame({'theta_surrogacy': theta, 'vart_surrogacy': vart, \n",
    "                                      'lower_ci_surrogacy': lower_ci, 'upper_ci_surrogacy': upper_ci, \n",
    "                                      'theta_latent': theta_l, 'vart_latent': vart_l,\n",
    "                                      'lower_ci_latent': lower_ci_l, 'upper_ci_latent': upper_ci_l,\n",
    "                                      'theta_oracle': theta_oracle, 'vart_oracle': vart_oracle,\n",
    "                                      'lower_ci_oracle': lower_ci_oracle, 'upper_ci_oracle': upper_ci_oracle})\n",
    "results_longterm_cate['percentiles'] = percentiles\n",
    "\n",
    "#export to csv\n",
    "results_longterm_cate.to_csv('longterm_cate.csv', index=False)\n"
   ]
  },
  {
   "cell_type": "code",
   "execution_count": null,
   "metadata": {},
   "outputs": [],
   "source": []
  },
  {
   "cell_type": "code",
   "execution_count": null,
   "metadata": {},
   "outputs": [],
   "source": []
  },
  {
   "cell_type": "code",
   "execution_count": null,
   "metadata": {},
   "outputs": [],
   "source": []
  }
 ],
 "metadata": {
  "kernelspec": {
   "display_name": "Python 3",
   "language": "python",
   "name": "python3"
  },
  "language_info": {
   "codemirror_mode": {
    "name": "ipython",
    "version": 3
   },
   "file_extension": ".py",
   "mimetype": "text/x-python",
   "name": "python",
   "nbconvert_exporter": "python",
   "pygments_lexer": "ipython3",
   "version": "3.9.13"
  },
  "orig_nbformat": 4
 },
 "nbformat": 4,
 "nbformat_minor": 2
}
