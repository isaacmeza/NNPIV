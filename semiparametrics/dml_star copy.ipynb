{
 "cells": [
  {
   "cell_type": "code",
   "execution_count": 1,
   "metadata": {},
   "outputs": [],
   "source": [
    "import os\n",
    "import matplotlib.pyplot as plt\n",
    "import numpy as np\n",
    "from sklearn.linear_model import Lasso, LassoCV, LogisticRegression, LogisticRegressionCV, LinearRegression,\\\n",
    "    ElasticNet, ElasticNetCV, MultiTaskElasticNet, MultiTaskElasticNetCV\n",
    "from sklearn.ensemble import RandomForestRegressor, RandomForestClassifier\n",
    "from sklearn.preprocessing import PolynomialFeatures\n",
    "from sklearn.model_selection import train_test_split\n",
    "\n",
    "from sklearn.pipeline import Pipeline\n",
    "\n",
    "from pathlib import Path\n",
    "import numpy as np\n",
    "\n",
    "import pandas as pd\n",
    "import matplotlib.pyplot as plt\n",
    "\n"
   ]
  },
  {
   "cell_type": "code",
   "execution_count": 2,
   "metadata": {},
   "outputs": [],
   "source": [
    "#from mliv.neuralnet.deepiv_fit import deep_iv_fit\n",
    "import mliv.dgps_mediated as dgps\n",
    "from mliv.rkhs import ApproxRKHSIVCV, RKHSIVCV\n",
    "from mliv.tsls import tsls, regtsls"
   ]
  },
  {
   "cell_type": "code",
   "execution_count": 3,
   "metadata": {},
   "outputs": [],
   "source": [
    "from dml_longterm import DML_longterm\n",
    "from dml_npiv import DML_npiv\n",
    "from dml_mediated import DML_mediated"
   ]
  },
  {
   "cell_type": "code",
   "execution_count": 4,
   "metadata": {},
   "outputs": [],
   "source": [
    "df = pd.read_csv('../data/data_star.csv', header=0)\n",
    "\n",
    "# Bind covariates\n",
    "Xnan = df[[\"z_score_prior\"]].values\n",
    "X = df[[\"z_score_prior\"]].values\n",
    "G = df[[\"G\"]].values\n",
    "D = df[[\"D\"]].values\n",
    "S = df[[\"z_score3\"]].values\n",
    "V = df[[\"z_score_prior\"]].values\n",
    "Y = df[[\"z_score8\"]].values\n",
    "\n",
    "\n",
    "#drop NaNs\n",
    "X = X[~np.isnan(Xnan)].reshape(-1,1)\n",
    "G = G[~np.isnan(Xnan)].reshape(-1,1)\n",
    "D = D[~np.isnan(Xnan)].reshape(-1,1)\n",
    "S = S[~np.isnan(Xnan)].reshape(-1,1)\n",
    "Y = Y[~np.isnan(Xnan)].reshape(-1,1)\n",
    "V = V[~np.isnan(Xnan)].reshape(-1,1)\n",
    "\n",
    "ones = np.ones((X.shape[0], 1))"
   ]
  },
  {
   "cell_type": "code",
   "execution_count": 5,
   "metadata": {},
   "outputs": [],
   "source": [
    "percentiles = np.arange(5, 100, 5)\n",
    "#Input the vector little v where wwe want to center local estimate theta\n",
    "v_values = np.percentile(V, percentiles)\n"
   ]
  },
  {
   "cell_type": "code",
   "execution_count": 6,
   "metadata": {},
   "outputs": [],
   "source": [
    "m1 = ApproxRKHSIVCV(kernel_approx='nystrom', n_components=500,\n",
    "                           kernel='rbf', gamma=.1, delta_scale='auto',\n",
    "                           delta_exp=.4, alpha_scales=np.geomspace(1, 10000, 10), cv=10)\n",
    "m2 = ApproxRKHSIVCV(kernel_approx='nystrom', n_components=200,\n",
    "                           kernel='rbf', gamma=.1, delta_scale='auto',\n",
    "                           delta_exp=.4, alpha_scales=np.geomspace(1, 10000, 10), cv=10)"
   ]
  },
  {
   "cell_type": "code",
   "execution_count": 7,
   "metadata": {},
   "outputs": [
    {
     "name": "stdout",
     "output_type": "stream",
     "text": [
      "Rep: 1\n"
     ]
    },
    {
     "name": "stderr",
     "output_type": "stream",
     "text": [
      "100%|██████████| 10/10 [00:00<00:00, 12.13it/s]\n"
     ]
    },
    {
     "data": {
      "text/plain": [
       "<matplotlib.lines.Line2D at 0x241dd293ac0>"
      ]
     },
     "execution_count": 7,
     "metadata": {},
     "output_type": "execute_result"
    },
    {
     "data": {
      "image/png": "[encoded data removed]",
      "text/plain": [
       "<Figure size 700x300 with 1 Axes>"
      ]
     },
     "metadata": {},
     "output_type": "display_data"
    }
   ],
   "source": [
    "ind = np.where(G == 0)[0]\n",
    "Y1 = Y[ind]\n",
    "D1 = D[ind]\n",
    "X11 = X[ind]\n",
    "ones1 = ones[ind]\n",
    "\n",
    "dml_npiv = DML_npiv(Y1, D1, ones1, ones1, V=X11, v_values = v_values,\n",
    "                        estimator='OR',\n",
    "                        loc_kernel='gau',\n",
    "                        bw_loc='silverman',\n",
    "                        model1 = tsls(),\n",
    "                        modelq1 = tsls(),\n",
    "                n_folds=10, n_rep=1, CHIM = False, prop_score=LogisticRegression(max_iter=2000), opts = {'lin_degree': 1})\n",
    "\n",
    "theta_oracle, vart_oracle, ci_oracle = dml_npiv.dml()\n",
    "\n",
    "lower_ci_oracle = ci_oracle[:, 0]\n",
    "upper_ci_oracle = ci_oracle[:, 1]\n",
    "yerr_oracle = [theta_oracle - lower_ci_oracle, upper_ci_oracle - theta_oracle]\n",
    "\n",
    "plt.figure(figsize=(7, 3))\n",
    "plt.plot(theta_oracle)\n",
    "plt.axhline(np.mean(theta_oracle, axis=0), linewidth=1)  # Adjust line properties as needed\n",
    "plt.axhline(y=0, color='black', linestyle='--', linewidth=1)  # Adjust line properties as needed"
   ]
  },
  {
   "cell_type": "code",
   "execution_count": 8,
   "metadata": {},
   "outputs": [
    {
     "data": {
      "text/plain": [
       "array([ 0.1635449 ,  0.13782453,  0.08867868,  0.08364748,  0.08295305,\n",
       "        0.0606569 ,  0.04020881,  0.03018352,  0.02696582,  0.02149739,\n",
       "        0.01140567, -0.00690809, -0.02255769, -0.02203786, -0.01860122,\n",
       "       -0.02680989, -0.04520676, -0.06023979, -0.06471341])"
      ]
     },
     "execution_count": 8,
     "metadata": {},
     "output_type": "execute_result"
    }
   ],
   "source": [
    "theta_oracle"
   ]
  }
 ],
 "metadata": {
  "kernelspec": {
   "display_name": "Python 3",
   "language": "python",
   "name": "python3"
  },
  "language_info": {
   "codemirror_mode": {
    "name": "ipython",
    "version": 3
   },
   "file_extension": ".py",
   "mimetype": "text/x-python",
   "name": "python",
   "nbconvert_exporter": "python",
   "pygments_lexer": "ipython3",
   "version": "3.9.13"
  },
  "orig_nbformat": 4
 },
 "nbformat": 4,
 "nbformat_minor": 2
}
